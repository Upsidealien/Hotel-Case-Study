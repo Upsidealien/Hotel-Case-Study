{
 "cells": [
  {
   "cell_type": "markdown",
   "metadata": {},
   "source": [
    "# Expedia Case Study"
   ]
  },
  {
   "cell_type": "markdown",
   "metadata": {},
   "source": [
    "Assumptions:\n",
    "- a search appearing in this list means that the user expressed some form of interest in this hotel (presumably by clicking on it in the search results)"
   ]
  },
  {
   "cell_type": "markdown",
   "metadata": {},
   "source": [
    "Import some libraries that will be useful for plotting and analysing the data."
   ]
  },
  {
   "cell_type": "code",
   "execution_count": 84,
   "metadata": {
    "collapsed": false
   },
   "outputs": [],
   "source": [
    "import numpy as np\n",
    "import pandas as pd\n",
    "import matplotlib.pyplot as plt\n",
    "from scipy import stats\n",
    "from scipy.stats import pearsonr"
   ]
  },
  {
   "cell_type": "code",
   "execution_count": 85,
   "metadata": {
    "collapsed": true
   },
   "outputs": [],
   "source": [
    "df = pd.read_csv('case_study_data.csv', delimiter=',', encoding=\"utf-8-sig\")"
   ]
  },
  {
   "cell_type": "markdown",
   "metadata": {},
   "source": [
    "# Clean the Data"
   ]
  },
  {
   "cell_type": "markdown",
   "metadata": {},
   "source": [
    "First let's take a look at a summary of the data"
   ]
  },
  {
   "cell_type": "code",
   "execution_count": 86,
   "metadata": {
    "collapsed": false
   },
   "outputs": [
    {
     "data": {
      "text/html": [
       "<div>\n",
       "<table border=\"1\" class=\"dataframe\">\n",
       "  <thead>\n",
       "    <tr style=\"text-align: right;\">\n",
       "      <th></th>\n",
       "      <th>search_date</th>\n",
       "      <th>arrival</th>\n",
       "      <th>departure</th>\n",
       "      <th>num_adults</th>\n",
       "      <th>num_children</th>\n",
       "      <th>search_id</th>\n",
       "      <th>hotel_id</th>\n",
       "      <th>hotel_price</th>\n",
       "      <th>is_promo</th>\n",
       "      <th>hotel_feature_1</th>\n",
       "      <th>hotel_feature_2</th>\n",
       "      <th>hotel_feature_3</th>\n",
       "      <th>hotel_feature_4</th>\n",
       "      <th>hotel_feature_5</th>\n",
       "      <th>booked</th>\n",
       "    </tr>\n",
       "  </thead>\n",
       "  <tbody>\n",
       "    <tr>\n",
       "      <th>count</th>\n",
       "      <td>46647.000000</td>\n",
       "      <td>46647.000000</td>\n",
       "      <td>46647.000000</td>\n",
       "      <td>46647.000000</td>\n",
       "      <td>46647.000000</td>\n",
       "      <td>46647.000000</td>\n",
       "      <td>46647.000000</td>\n",
       "      <td>46647.000000</td>\n",
       "      <td>46647.000000</td>\n",
       "      <td>45445.000000</td>\n",
       "      <td>46322.000000</td>\n",
       "      <td>46647.000000</td>\n",
       "      <td>46647.000000</td>\n",
       "      <td>46647.000000</td>\n",
       "      <td>46647.000000</td>\n",
       "    </tr>\n",
       "    <tr>\n",
       "      <th>mean</th>\n",
       "      <td>11.734517</td>\n",
       "      <td>126.788046</td>\n",
       "      <td>134.479902</td>\n",
       "      <td>2.370570</td>\n",
       "      <td>0.812335</td>\n",
       "      <td>5509.648659</td>\n",
       "      <td>23095.564302</td>\n",
       "      <td>2599.055621</td>\n",
       "      <td>0.501490</td>\n",
       "      <td>76.849742</td>\n",
       "      <td>63.108847</td>\n",
       "      <td>59.068729</td>\n",
       "      <td>5.982335</td>\n",
       "      <td>2.357601</td>\n",
       "      <td>0.006603</td>\n",
       "    </tr>\n",
       "    <tr>\n",
       "      <th>std</th>\n",
       "      <td>7.336887</td>\n",
       "      <td>90.867556</td>\n",
       "      <td>92.517336</td>\n",
       "      <td>0.912667</td>\n",
       "      <td>0.949223</td>\n",
       "      <td>4460.689701</td>\n",
       "      <td>13480.392766</td>\n",
       "      <td>4490.091588</td>\n",
       "      <td>0.500003</td>\n",
       "      <td>41.747830</td>\n",
       "      <td>22.846125</td>\n",
       "      <td>51.378153</td>\n",
       "      <td>6.014773</td>\n",
       "      <td>1.811249</td>\n",
       "      <td>0.080990</td>\n",
       "    </tr>\n",
       "    <tr>\n",
       "      <th>min</th>\n",
       "      <td>0.000000</td>\n",
       "      <td>0.000000</td>\n",
       "      <td>1.000000</td>\n",
       "      <td>1.000000</td>\n",
       "      <td>0.000000</td>\n",
       "      <td>0.000000</td>\n",
       "      <td>1.000000</td>\n",
       "      <td>30.370000</td>\n",
       "      <td>0.000000</td>\n",
       "      <td>2.000000</td>\n",
       "      <td>0.000000</td>\n",
       "      <td>1.000000</td>\n",
       "      <td>0.000000</td>\n",
       "      <td>0.000000</td>\n",
       "      <td>0.000000</td>\n",
       "    </tr>\n",
       "    <tr>\n",
       "      <th>25%</th>\n",
       "      <td>6.000000</td>\n",
       "      <td>49.000000</td>\n",
       "      <td>54.000000</td>\n",
       "      <td>2.000000</td>\n",
       "      <td>0.000000</td>\n",
       "      <td>1656.000000</td>\n",
       "      <td>11474.000000</td>\n",
       "      <td>559.400000</td>\n",
       "      <td>0.000000</td>\n",
       "      <td>46.238512</td>\n",
       "      <td>52.000000</td>\n",
       "      <td>16.000000</td>\n",
       "      <td>1.000000</td>\n",
       "      <td>1.000000</td>\n",
       "      <td>0.000000</td>\n",
       "    </tr>\n",
       "    <tr>\n",
       "      <th>50%</th>\n",
       "      <td>12.000000</td>\n",
       "      <td>109.000000</td>\n",
       "      <td>116.000000</td>\n",
       "      <td>2.000000</td>\n",
       "      <td>0.000000</td>\n",
       "      <td>4488.000000</td>\n",
       "      <td>23309.000000</td>\n",
       "      <td>1336.600000</td>\n",
       "      <td>1.000000</td>\n",
       "      <td>67.712628</td>\n",
       "      <td>52.000000</td>\n",
       "      <td>46.000000</td>\n",
       "      <td>4.000000</td>\n",
       "      <td>1.000000</td>\n",
       "      <td>0.000000</td>\n",
       "    </tr>\n",
       "    <tr>\n",
       "      <th>75%</th>\n",
       "      <td>17.000000</td>\n",
       "      <td>187.000000</td>\n",
       "      <td>197.000000</td>\n",
       "      <td>3.000000</td>\n",
       "      <td>2.000000</td>\n",
       "      <td>8727.000000</td>\n",
       "      <td>33668.000000</td>\n",
       "      <td>3090.510000</td>\n",
       "      <td>1.000000</td>\n",
       "      <td>128.117134</td>\n",
       "      <td>90.000000</td>\n",
       "      <td>86.000000</td>\n",
       "      <td>9.000000</td>\n",
       "      <td>4.000000</td>\n",
       "      <td>0.000000</td>\n",
       "    </tr>\n",
       "    <tr>\n",
       "      <th>max</th>\n",
       "      <td>25.000000</td>\n",
       "      <td>493.000000</td>\n",
       "      <td>501.000000</td>\n",
       "      <td>8.000000</td>\n",
       "      <td>6.000000</td>\n",
       "      <td>16015.000000</td>\n",
       "      <td>46647.000000</td>\n",
       "      <td>175454.410000</td>\n",
       "      <td>1.000000</td>\n",
       "      <td>143.777606</td>\n",
       "      <td>100.000000</td>\n",
       "      <td>287.000000</td>\n",
       "      <td>36.000000</td>\n",
       "      <td>7.000000</td>\n",
       "      <td>1.000000</td>\n",
       "    </tr>\n",
       "  </tbody>\n",
       "</table>\n",
       "</div>"
      ],
      "text/plain": [
       "        search_date       arrival     departure    num_adults  num_children  \\\n",
       "count  46647.000000  46647.000000  46647.000000  46647.000000  46647.000000   \n",
       "mean      11.734517    126.788046    134.479902      2.370570      0.812335   \n",
       "std        7.336887     90.867556     92.517336      0.912667      0.949223   \n",
       "min        0.000000      0.000000      1.000000      1.000000      0.000000   \n",
       "25%        6.000000     49.000000     54.000000      2.000000      0.000000   \n",
       "50%       12.000000    109.000000    116.000000      2.000000      0.000000   \n",
       "75%       17.000000    187.000000    197.000000      3.000000      2.000000   \n",
       "max       25.000000    493.000000    501.000000      8.000000      6.000000   \n",
       "\n",
       "          search_id      hotel_id    hotel_price      is_promo  \\\n",
       "count  46647.000000  46647.000000   46647.000000  46647.000000   \n",
       "mean    5509.648659  23095.564302    2599.055621      0.501490   \n",
       "std     4460.689701  13480.392766    4490.091588      0.500003   \n",
       "min        0.000000      1.000000      30.370000      0.000000   \n",
       "25%     1656.000000  11474.000000     559.400000      0.000000   \n",
       "50%     4488.000000  23309.000000    1336.600000      1.000000   \n",
       "75%     8727.000000  33668.000000    3090.510000      1.000000   \n",
       "max    16015.000000  46647.000000  175454.410000      1.000000   \n",
       "\n",
       "       hotel_feature_1  hotel_feature_2  hotel_feature_3  hotel_feature_4  \\\n",
       "count     45445.000000     46322.000000     46647.000000     46647.000000   \n",
       "mean         76.849742        63.108847        59.068729         5.982335   \n",
       "std          41.747830        22.846125        51.378153         6.014773   \n",
       "min           2.000000         0.000000         1.000000         0.000000   \n",
       "25%          46.238512        52.000000        16.000000         1.000000   \n",
       "50%          67.712628        52.000000        46.000000         4.000000   \n",
       "75%         128.117134        90.000000        86.000000         9.000000   \n",
       "max         143.777606       100.000000       287.000000        36.000000   \n",
       "\n",
       "       hotel_feature_5        booked  \n",
       "count     46647.000000  46647.000000  \n",
       "mean          2.357601      0.006603  \n",
       "std           1.811249      0.080990  \n",
       "min           0.000000      0.000000  \n",
       "25%           1.000000      0.000000  \n",
       "50%           1.000000      0.000000  \n",
       "75%           4.000000      0.000000  \n",
       "max           7.000000      1.000000  "
      ]
     },
     "execution_count": 86,
     "metadata": {},
     "output_type": "execute_result"
    }
   ],
   "source": [
    "df.describe()"
   ]
  },
  {
   "cell_type": "markdown",
   "metadata": {},
   "source": [
    "We can see from the count of each column that 'hotel_feature_1' and 'hotel_feature_2' are missing values."
   ]
  },
  {
   "cell_type": "markdown",
   "metadata": {},
   "source": [
    "### Missing Data"
   ]
  },
  {
   "cell_type": "code",
   "execution_count": 87,
   "metadata": {
    "collapsed": false
   },
   "outputs": [
    {
     "name": "stdout",
     "output_type": "stream",
     "text": [
      "Number of missing hotel_feature_1 entries: 1202\n",
      "Number of missing hotel_feature_2 entries: 325\n"
     ]
    }
   ],
   "source": [
    "print \"Number of missing hotel_feature_1 entries: \" + str(len(df[np.isnan(df['hotel_feature_1'])]))\n",
    "print \"Number of missing hotel_feature_2 entries: \" + str(len(df[np.isnan(df['hotel_feature_2'])]))"
   ]
  },
  {
   "cell_type": "markdown",
   "metadata": {},
   "source": [
    "We can drop these values from the dataset."
   ]
  },
  {
   "cell_type": "code",
   "execution_count": 88,
   "metadata": {
    "collapsed": true
   },
   "outputs": [],
   "source": [
    "df = df[np.isnan(df['hotel_feature_1']) != True]\n",
    "df = df[np.isnan(df['hotel_feature_2']) != True]"
   ]
  },
  {
   "cell_type": "markdown",
   "metadata": {},
   "source": [
    "*** Continue Cleaning By Checking The Range of the Numbers and Stating Assumptions e.g.\n",
    "- if the arrival date reads 457 then that is a book for next year"
   ]
  },
  {
   "cell_type": "markdown",
   "metadata": {},
   "source": [
    "# New Columns"
   ]
  },
  {
   "cell_type": "markdown",
   "metadata": {},
   "source": [
    "We can now add some more columns to our dataset that we might find useful."
   ]
  },
  {
   "cell_type": "code",
   "execution_count": 91,
   "metadata": {
    "collapsed": true
   },
   "outputs": [],
   "source": [
    "df['stay_length'] = df['departure'] - df['arrival']"
   ]
  },
  {
   "cell_type": "code",
   "execution_count": 92,
   "metadata": {
    "collapsed": false
   },
   "outputs": [],
   "source": [
    "df['price_per_night'] = df['hotel_price'] / df['stay_length']"
   ]
  },
  {
   "cell_type": "code",
   "execution_count": 93,
   "metadata": {
    "collapsed": false
   },
   "outputs": [
    {
     "data": {
      "text/html": [
       "<div>\n",
       "<table border=\"1\" class=\"dataframe\">\n",
       "  <thead>\n",
       "    <tr style=\"text-align: right;\">\n",
       "      <th></th>\n",
       "      <th>search_date</th>\n",
       "      <th>arrival</th>\n",
       "      <th>departure</th>\n",
       "      <th>num_adults</th>\n",
       "      <th>num_children</th>\n",
       "      <th>search_id</th>\n",
       "      <th>hotel_id</th>\n",
       "      <th>hotel_price</th>\n",
       "      <th>is_promo</th>\n",
       "      <th>hotel_feature_1</th>\n",
       "      <th>hotel_feature_2</th>\n",
       "      <th>hotel_feature_3</th>\n",
       "      <th>hotel_feature_4</th>\n",
       "      <th>hotel_feature_5</th>\n",
       "      <th>booked</th>\n",
       "      <th>stay_length</th>\n",
       "      <th>price_per_night</th>\n",
       "    </tr>\n",
       "  </thead>\n",
       "  <tbody>\n",
       "    <tr>\n",
       "      <th>0</th>\n",
       "      <td>25</td>\n",
       "      <td>457</td>\n",
       "      <td>471</td>\n",
       "      <td>3</td>\n",
       "      <td>2</td>\n",
       "      <td>0</td>\n",
       "      <td>517</td>\n",
       "      <td>1724.38</td>\n",
       "      <td>0</td>\n",
       "      <td>64.490309</td>\n",
       "      <td>85.0</td>\n",
       "      <td>7</td>\n",
       "      <td>0</td>\n",
       "      <td>0</td>\n",
       "      <td>0</td>\n",
       "      <td>14</td>\n",
       "      <td>123.17</td>\n",
       "    </tr>\n",
       "    <tr>\n",
       "      <th>1</th>\n",
       "      <td>25</td>\n",
       "      <td>457</td>\n",
       "      <td>471</td>\n",
       "      <td>3</td>\n",
       "      <td>2</td>\n",
       "      <td>0</td>\n",
       "      <td>517</td>\n",
       "      <td>1724.38</td>\n",
       "      <td>0</td>\n",
       "      <td>64.490309</td>\n",
       "      <td>85.0</td>\n",
       "      <td>7</td>\n",
       "      <td>0</td>\n",
       "      <td>0</td>\n",
       "      <td>0</td>\n",
       "      <td>14</td>\n",
       "      <td>123.17</td>\n",
       "    </tr>\n",
       "    <tr>\n",
       "      <th>2</th>\n",
       "      <td>25</td>\n",
       "      <td>457</td>\n",
       "      <td>471</td>\n",
       "      <td>3</td>\n",
       "      <td>2</td>\n",
       "      <td>0</td>\n",
       "      <td>29771</td>\n",
       "      <td>1905.54</td>\n",
       "      <td>1</td>\n",
       "      <td>25.826343</td>\n",
       "      <td>52.0</td>\n",
       "      <td>13</td>\n",
       "      <td>1</td>\n",
       "      <td>1</td>\n",
       "      <td>0</td>\n",
       "      <td>14</td>\n",
       "      <td>136.11</td>\n",
       "    </tr>\n",
       "    <tr>\n",
       "      <th>3</th>\n",
       "      <td>25</td>\n",
       "      <td>458</td>\n",
       "      <td>463</td>\n",
       "      <td>2</td>\n",
       "      <td>0</td>\n",
       "      <td>1</td>\n",
       "      <td>517</td>\n",
       "      <td>2077.95</td>\n",
       "      <td>0</td>\n",
       "      <td>64.490309</td>\n",
       "      <td>85.0</td>\n",
       "      <td>9</td>\n",
       "      <td>0</td>\n",
       "      <td>0</td>\n",
       "      <td>0</td>\n",
       "      <td>5</td>\n",
       "      <td>415.59</td>\n",
       "    </tr>\n",
       "    <tr>\n",
       "      <th>4</th>\n",
       "      <td>25</td>\n",
       "      <td>458</td>\n",
       "      <td>463</td>\n",
       "      <td>2</td>\n",
       "      <td>0</td>\n",
       "      <td>1</td>\n",
       "      <td>40744</td>\n",
       "      <td>6822.10</td>\n",
       "      <td>0</td>\n",
       "      <td>24.959968</td>\n",
       "      <td>52.0</td>\n",
       "      <td>11</td>\n",
       "      <td>1</td>\n",
       "      <td>2</td>\n",
       "      <td>0</td>\n",
       "      <td>5</td>\n",
       "      <td>1364.42</td>\n",
       "    </tr>\n",
       "  </tbody>\n",
       "</table>\n",
       "</div>"
      ],
      "text/plain": [
       "   search_date  arrival  departure  num_adults  num_children  search_id  \\\n",
       "0           25      457        471           3             2          0   \n",
       "1           25      457        471           3             2          0   \n",
       "2           25      457        471           3             2          0   \n",
       "3           25      458        463           2             0          1   \n",
       "4           25      458        463           2             0          1   \n",
       "\n",
       "   hotel_id  hotel_price  is_promo  hotel_feature_1  hotel_feature_2  \\\n",
       "0       517      1724.38         0        64.490309             85.0   \n",
       "1       517      1724.38         0        64.490309             85.0   \n",
       "2     29771      1905.54         1        25.826343             52.0   \n",
       "3       517      2077.95         0        64.490309             85.0   \n",
       "4     40744      6822.10         0        24.959968             52.0   \n",
       "\n",
       "   hotel_feature_3  hotel_feature_4  hotel_feature_5  booked  stay_length  \\\n",
       "0                7                0                0       0           14   \n",
       "1                7                0                0       0           14   \n",
       "2               13                1                1       0           14   \n",
       "3                9                0                0       0            5   \n",
       "4               11                1                2       0            5   \n",
       "\n",
       "   price_per_night  \n",
       "0           123.17  \n",
       "1           123.17  \n",
       "2           136.11  \n",
       "3           415.59  \n",
       "4          1364.42  "
      ]
     },
     "execution_count": 93,
     "metadata": {},
     "output_type": "execute_result"
    }
   ],
   "source": [
    "df.round({'price_per_night': 2}).head()"
   ]
  },
  {
   "cell_type": "markdown",
   "metadata": {},
   "source": [
    "To help with our correlation analysis later on, we can add a column that categorises the hotel price per night."
   ]
  },
  {
   "cell_type": "code",
   "execution_count": 161,
   "metadata": {
    "collapsed": false
   },
   "outputs": [
    {
     "data": {
      "text/html": [
       "<div>\n",
       "<table border=\"1\" class=\"dataframe\">\n",
       "  <thead>\n",
       "    <tr style=\"text-align: right;\">\n",
       "      <th></th>\n",
       "      <th>search_date</th>\n",
       "      <th>arrival</th>\n",
       "      <th>departure</th>\n",
       "      <th>num_adults</th>\n",
       "      <th>num_children</th>\n",
       "      <th>search_id</th>\n",
       "      <th>hotel_id</th>\n",
       "      <th>hotel_price</th>\n",
       "      <th>is_promo</th>\n",
       "      <th>hotel_feature_1</th>\n",
       "      <th>hotel_feature_2</th>\n",
       "      <th>hotel_feature_3</th>\n",
       "      <th>hotel_feature_4</th>\n",
       "      <th>hotel_feature_5</th>\n",
       "      <th>booked</th>\n",
       "      <th>stay_length</th>\n",
       "      <th>price_per_night</th>\n",
       "      <th>price_category</th>\n",
       "    </tr>\n",
       "  </thead>\n",
       "  <tbody>\n",
       "    <tr>\n",
       "      <th>3804</th>\n",
       "      <td>17</td>\n",
       "      <td>55</td>\n",
       "      <td>56</td>\n",
       "      <td>2</td>\n",
       "      <td>0</td>\n",
       "      <td>291</td>\n",
       "      <td>10533</td>\n",
       "      <td>30.37</td>\n",
       "      <td>1</td>\n",
       "      <td>139.316187</td>\n",
       "      <td>80.0</td>\n",
       "      <td>72</td>\n",
       "      <td>1</td>\n",
       "      <td>4</td>\n",
       "      <td>0</td>\n",
       "      <td>1</td>\n",
       "      <td>30.370000</td>\n",
       "      <td>NaN</td>\n",
       "    </tr>\n",
       "    <tr>\n",
       "      <th>26626</th>\n",
       "      <td>17</td>\n",
       "      <td>39</td>\n",
       "      <td>41</td>\n",
       "      <td>2</td>\n",
       "      <td>1</td>\n",
       "      <td>5594</td>\n",
       "      <td>10533</td>\n",
       "      <td>60.74</td>\n",
       "      <td>1</td>\n",
       "      <td>139.316187</td>\n",
       "      <td>80.0</td>\n",
       "      <td>76</td>\n",
       "      <td>1</td>\n",
       "      <td>4</td>\n",
       "      <td>0</td>\n",
       "      <td>2</td>\n",
       "      <td>30.370000</td>\n",
       "      <td>NaN</td>\n",
       "    </tr>\n",
       "    <tr>\n",
       "      <th>45268</th>\n",
       "      <td>2</td>\n",
       "      <td>26</td>\n",
       "      <td>41</td>\n",
       "      <td>2</td>\n",
       "      <td>0</td>\n",
       "      <td>14879</td>\n",
       "      <td>10533</td>\n",
       "      <td>491.77</td>\n",
       "      <td>1</td>\n",
       "      <td>139.316187</td>\n",
       "      <td>80.0</td>\n",
       "      <td>49</td>\n",
       "      <td>1</td>\n",
       "      <td>4</td>\n",
       "      <td>0</td>\n",
       "      <td>15</td>\n",
       "      <td>32.784667</td>\n",
       "      <td>1.0</td>\n",
       "    </tr>\n",
       "    <tr>\n",
       "      <th>45181</th>\n",
       "      <td>4</td>\n",
       "      <td>9</td>\n",
       "      <td>26</td>\n",
       "      <td>2</td>\n",
       "      <td>0</td>\n",
       "      <td>14804</td>\n",
       "      <td>10533</td>\n",
       "      <td>562.02</td>\n",
       "      <td>1</td>\n",
       "      <td>139.316187</td>\n",
       "      <td>80.0</td>\n",
       "      <td>34</td>\n",
       "      <td>1</td>\n",
       "      <td>4</td>\n",
       "      <td>0</td>\n",
       "      <td>17</td>\n",
       "      <td>33.060000</td>\n",
       "      <td>1.0</td>\n",
       "    </tr>\n",
       "    <tr>\n",
       "      <th>26621</th>\n",
       "      <td>17</td>\n",
       "      <td>22</td>\n",
       "      <td>28</td>\n",
       "      <td>2</td>\n",
       "      <td>2</td>\n",
       "      <td>5592</td>\n",
       "      <td>10533</td>\n",
       "      <td>202.46</td>\n",
       "      <td>1</td>\n",
       "      <td>139.316187</td>\n",
       "      <td>80.0</td>\n",
       "      <td>71</td>\n",
       "      <td>1</td>\n",
       "      <td>4</td>\n",
       "      <td>0</td>\n",
       "      <td>6</td>\n",
       "      <td>33.743333</td>\n",
       "      <td>1.0</td>\n",
       "    </tr>\n",
       "  </tbody>\n",
       "</table>\n",
       "</div>"
      ],
      "text/plain": [
       "       search_date  arrival  departure  num_adults  num_children  search_id  \\\n",
       "3804            17       55         56           2             0        291   \n",
       "26626           17       39         41           2             1       5594   \n",
       "45268            2       26         41           2             0      14879   \n",
       "45181            4        9         26           2             0      14804   \n",
       "26621           17       22         28           2             2       5592   \n",
       "\n",
       "       hotel_id  hotel_price  is_promo  hotel_feature_1  hotel_feature_2  \\\n",
       "3804      10533        30.37         1       139.316187             80.0   \n",
       "26626     10533        60.74         1       139.316187             80.0   \n",
       "45268     10533       491.77         1       139.316187             80.0   \n",
       "45181     10533       562.02         1       139.316187             80.0   \n",
       "26621     10533       202.46         1       139.316187             80.0   \n",
       "\n",
       "       hotel_feature_3  hotel_feature_4  hotel_feature_5  booked  stay_length  \\\n",
       "3804                72                1                4       0            1   \n",
       "26626               76                1                4       0            2   \n",
       "45268               49                1                4       0           15   \n",
       "45181               34                1                4       0           17   \n",
       "26621               71                1                4       0            6   \n",
       "\n",
       "       price_per_night price_category  \n",
       "3804         30.370000            NaN  \n",
       "26626        30.370000            NaN  \n",
       "45268        32.784667            1.0  \n",
       "45181        33.060000            1.0  \n",
       "26621        33.743333            1.0  "
      ]
     },
     "execution_count": 161,
     "metadata": {},
     "output_type": "execute_result"
    }
   ],
   "source": [
    "df.sort_values('price_per_night').head()"
   ]
  },
  {
   "cell_type": "code",
   "execution_count": 118,
   "metadata": {
    "collapsed": true
   },
   "outputs": [],
   "source": [
    "bins = pd.qcut(df['price_per_night'], 6, retbins=True, labels=False)[1]"
   ]
  },
  {
   "cell_type": "code",
   "execution_count": 123,
   "metadata": {
    "collapsed": true
   },
   "outputs": [],
   "source": [
    "group_names = [1, 2, 3, 4, 5, 6]"
   ]
  },
  {
   "cell_type": "code",
   "execution_count": 124,
   "metadata": {
    "collapsed": false
   },
   "outputs": [],
   "source": [
    "df['price_category'] = pd.cut(df['price_per_night'], bins, labels=group_names)"
   ]
  },
  {
   "cell_type": "code",
   "execution_count": 125,
   "metadata": {
    "collapsed": false
   },
   "outputs": [
    {
     "data": {
      "text/html": [
       "<div>\n",
       "<table border=\"1\" class=\"dataframe\">\n",
       "  <thead>\n",
       "    <tr style=\"text-align: right;\">\n",
       "      <th></th>\n",
       "      <th>search_date</th>\n",
       "      <th>arrival</th>\n",
       "      <th>departure</th>\n",
       "      <th>num_adults</th>\n",
       "      <th>num_children</th>\n",
       "      <th>search_id</th>\n",
       "      <th>hotel_id</th>\n",
       "      <th>hotel_price</th>\n",
       "      <th>is_promo</th>\n",
       "      <th>hotel_feature_1</th>\n",
       "      <th>hotel_feature_2</th>\n",
       "      <th>hotel_feature_3</th>\n",
       "      <th>hotel_feature_4</th>\n",
       "      <th>hotel_feature_5</th>\n",
       "      <th>booked</th>\n",
       "      <th>stay_length</th>\n",
       "      <th>price_per_night</th>\n",
       "      <th>price_category</th>\n",
       "    </tr>\n",
       "  </thead>\n",
       "  <tbody>\n",
       "    <tr>\n",
       "      <th>0</th>\n",
       "      <td>25</td>\n",
       "      <td>457</td>\n",
       "      <td>471</td>\n",
       "      <td>3</td>\n",
       "      <td>2</td>\n",
       "      <td>0</td>\n",
       "      <td>517</td>\n",
       "      <td>1724.38</td>\n",
       "      <td>0</td>\n",
       "      <td>64.490309</td>\n",
       "      <td>85.0</td>\n",
       "      <td>7</td>\n",
       "      <td>0</td>\n",
       "      <td>0</td>\n",
       "      <td>0</td>\n",
       "      <td>14</td>\n",
       "      <td>123.17</td>\n",
       "      <td>2</td>\n",
       "    </tr>\n",
       "    <tr>\n",
       "      <th>1</th>\n",
       "      <td>25</td>\n",
       "      <td>457</td>\n",
       "      <td>471</td>\n",
       "      <td>3</td>\n",
       "      <td>2</td>\n",
       "      <td>0</td>\n",
       "      <td>517</td>\n",
       "      <td>1724.38</td>\n",
       "      <td>0</td>\n",
       "      <td>64.490309</td>\n",
       "      <td>85.0</td>\n",
       "      <td>7</td>\n",
       "      <td>0</td>\n",
       "      <td>0</td>\n",
       "      <td>0</td>\n",
       "      <td>14</td>\n",
       "      <td>123.17</td>\n",
       "      <td>2</td>\n",
       "    </tr>\n",
       "    <tr>\n",
       "      <th>2</th>\n",
       "      <td>25</td>\n",
       "      <td>457</td>\n",
       "      <td>471</td>\n",
       "      <td>3</td>\n",
       "      <td>2</td>\n",
       "      <td>0</td>\n",
       "      <td>29771</td>\n",
       "      <td>1905.54</td>\n",
       "      <td>1</td>\n",
       "      <td>25.826343</td>\n",
       "      <td>52.0</td>\n",
       "      <td>13</td>\n",
       "      <td>1</td>\n",
       "      <td>1</td>\n",
       "      <td>0</td>\n",
       "      <td>14</td>\n",
       "      <td>136.11</td>\n",
       "      <td>3</td>\n",
       "    </tr>\n",
       "    <tr>\n",
       "      <th>3</th>\n",
       "      <td>25</td>\n",
       "      <td>458</td>\n",
       "      <td>463</td>\n",
       "      <td>2</td>\n",
       "      <td>0</td>\n",
       "      <td>1</td>\n",
       "      <td>517</td>\n",
       "      <td>2077.95</td>\n",
       "      <td>0</td>\n",
       "      <td>64.490309</td>\n",
       "      <td>85.0</td>\n",
       "      <td>9</td>\n",
       "      <td>0</td>\n",
       "      <td>0</td>\n",
       "      <td>0</td>\n",
       "      <td>5</td>\n",
       "      <td>415.59</td>\n",
       "      <td>5</td>\n",
       "    </tr>\n",
       "    <tr>\n",
       "      <th>4</th>\n",
       "      <td>25</td>\n",
       "      <td>458</td>\n",
       "      <td>463</td>\n",
       "      <td>2</td>\n",
       "      <td>0</td>\n",
       "      <td>1</td>\n",
       "      <td>40744</td>\n",
       "      <td>6822.10</td>\n",
       "      <td>0</td>\n",
       "      <td>24.959968</td>\n",
       "      <td>52.0</td>\n",
       "      <td>11</td>\n",
       "      <td>1</td>\n",
       "      <td>2</td>\n",
       "      <td>0</td>\n",
       "      <td>5</td>\n",
       "      <td>1364.42</td>\n",
       "      <td>6</td>\n",
       "    </tr>\n",
       "  </tbody>\n",
       "</table>\n",
       "</div>"
      ],
      "text/plain": [
       "   search_date  arrival  departure  num_adults  num_children  search_id  \\\n",
       "0           25      457        471           3             2          0   \n",
       "1           25      457        471           3             2          0   \n",
       "2           25      457        471           3             2          0   \n",
       "3           25      458        463           2             0          1   \n",
       "4           25      458        463           2             0          1   \n",
       "\n",
       "   hotel_id  hotel_price  is_promo  hotel_feature_1  hotel_feature_2  \\\n",
       "0       517      1724.38         0        64.490309             85.0   \n",
       "1       517      1724.38         0        64.490309             85.0   \n",
       "2     29771      1905.54         1        25.826343             52.0   \n",
       "3       517      2077.95         0        64.490309             85.0   \n",
       "4     40744      6822.10         0        24.959968             52.0   \n",
       "\n",
       "   hotel_feature_3  hotel_feature_4  hotel_feature_5  booked  stay_length  \\\n",
       "0                7                0                0       0           14   \n",
       "1                7                0                0       0           14   \n",
       "2               13                1                1       0           14   \n",
       "3                9                0                0       0            5   \n",
       "4               11                1                2       0            5   \n",
       "\n",
       "   price_per_night price_category  \n",
       "0           123.17              2  \n",
       "1           123.17              2  \n",
       "2           136.11              3  \n",
       "3           415.59              5  \n",
       "4          1364.42              6  "
      ]
     },
     "execution_count": 125,
     "metadata": {},
     "output_type": "execute_result"
    }
   ],
   "source": [
    "df.head()"
   ]
  },
  {
   "cell_type": "markdown",
   "metadata": {},
   "source": [
    "Now we have cleaned the data and added some useful columns to the data set we can now have a look at the data by plotting it."
   ]
  },
  {
   "cell_type": "markdown",
   "metadata": {
    "collapsed": true
   },
   "source": [
    "# Plotting The Data"
   ]
  },
  {
   "cell_type": "code",
   "execution_count": 94,
   "metadata": {
    "collapsed": false
   },
   "outputs": [],
   "source": [
    "import seaborn as sb\n",
    "%matplotlib inline"
   ]
  },
  {
   "cell_type": "markdown",
   "metadata": {},
   "source": [
    "#### Arrival and Departure Dates"
   ]
  },
  {
   "cell_type": "markdown",
   "metadata": {},
   "source": [
    "First let's plot the arrival and departure dates together"
   ]
  },
  {
   "cell_type": "code",
   "execution_count": 95,
   "metadata": {
    "collapsed": false
   },
   "outputs": [
    {
     "data": {
      "image/png": "[encoded data removed]",
      "text/plain": [
       "<matplotlib.figure.Figure at 0x11e23c050>"
      ]
     },
     "metadata": {},
     "output_type": "display_data"
    }
   ],
   "source": [
    "fig, ax = plt.subplots()\n",
    "sb.distplot(df['arrival'], ax=ax, color='r')\n",
    "sb.distplot(df['departure'], ax=ax, color='b')\n",
    "\n",
    "plt.savefig(\"arrival_departure.png\")"
   ]
  },
  {
   "cell_type": "markdown",
   "metadata": {},
   "source": [
    "From this we can clearly see 'spikes' in the data that signify the popular dates to book a holiday."
   ]
  },
  {
   "cell_type": "markdown",
   "metadata": {},
   "source": [
    "#### Length of Stay"
   ]
  },
  {
   "cell_type": "markdown",
   "metadata": {},
   "source": [
    "Next, let's look at the distribution of the length of stays."
   ]
  },
  {
   "cell_type": "code",
   "execution_count": 96,
   "metadata": {
    "collapsed": false
   },
   "outputs": [
    {
     "data": {
      "image/png": "[encoded data removed]",
      "text/plain": [
       "<matplotlib.figure.Figure at 0x11c53de90>"
      ]
     },
     "metadata": {},
     "output_type": "display_data"
    }
   ],
   "source": [
    "plt.xlim(0, 27)\n",
    "plt.xticks(np.arange(0, 28, 1.0))\n",
    "sb.distplot(df['stay_length'])\n",
    "plt.savefig(\"stay_length.png\")"
   ]
  },
  {
   "cell_type": "markdown",
   "metadata": {},
   "source": [
    "Again, we can clearly see that (predictably) the most popular length of stay is 1 week."
   ]
  },
  {
   "cell_type": "markdown",
   "metadata": {},
   "source": [
    "#### Number of Adults and Children"
   ]
  },
  {
   "cell_type": "markdown",
   "metadata": {},
   "source": [
    "Now we will look at the distribution of searches containing different numbers of adults and children"
   ]
  },
  {
   "cell_type": "code",
   "execution_count": 98,
   "metadata": {
    "collapsed": false
   },
   "outputs": [
    {
     "data": {
      "image/png": "[encoded data removed]",
      "text/plain": [
       "<matplotlib.figure.Figure at 0x11c53d510>"
      ]
     },
     "metadata": {},
     "output_type": "display_data"
    }
   ],
   "source": [
    "sb.countplot(x=\"num_adults\", data=df)\n",
    "plt.savefig(\"num_adults.png\")"
   ]
  },
  {
   "cell_type": "code",
   "execution_count": 99,
   "metadata": {
    "collapsed": false
   },
   "outputs": [
    {
     "data": {
      "image/png": "[encoded data removed]",
      "text/plain": [
       "<matplotlib.figure.Figure at 0x11c53d210>"
      ]
     },
     "metadata": {},
     "output_type": "display_data"
    }
   ],
   "source": [
    "sb.countplot(x=\"num_children\", data=df)\n",
    "plt.savefig(\"num_children.png\")"
   ]
  },
  {
   "cell_type": "markdown",
   "metadata": {},
   "source": [
    "These plots show us that most hotel searches are being made for 2 adults, with no children."
   ]
  },
  {
   "cell_type": "markdown",
   "metadata": {},
   "source": [
    "** Insert Scattler Plot of Adults -> Kids **"
   ]
  },
  {
   "cell_type": "markdown",
   "metadata": {},
   "source": [
    "#### Number of Hotels"
   ]
  },
  {
   "cell_type": "code",
   "execution_count": 162,
   "metadata": {
    "collapsed": false
   },
   "outputs": [
    {
     "name": "stdout",
     "output_type": "stream",
     "text": [
      "The number of unique hotels in our dataset is 343\n"
     ]
    }
   ],
   "source": [
    "print \"The number of unique hotels in our dataset is \" + str(len(df['hotel_id'].unique()))"
   ]
  },
  {
   "cell_type": "markdown",
   "metadata": {},
   "source": [
    "#### Ratio of Promo"
   ]
  },
  {
   "cell_type": "code",
   "execution_count": 163,
   "metadata": {
    "collapsed": false
   },
   "outputs": [
    {
     "name": "stdout",
     "output_type": "stream",
     "text": [
      "The ratio of hotels offering a promotion in the dataset is 0.51\n"
     ]
    }
   ],
   "source": [
    "num_promo = len(df[df['is_promo'] == 1])\n",
    "total_searches = len(df)\n",
    "print \"The ratio of hotels offering a promotion in the dataset is \" + str(round((num_promo / float(total_searches)), 2))"
   ]
  },
  {
   "cell_type": "markdown",
   "metadata": {},
   "source": [
    "### Hotel Features"
   ]
  },
  {
   "cell_type": "markdown",
   "metadata": {},
   "source": [
    "We can now look at the distribution of the different features for the hotels."
   ]
  },
  {
   "cell_type": "code",
   "execution_count": 144,
   "metadata": {
    "collapsed": false
   },
   "outputs": [
    {
     "data": {
      "image/png": "[encoded data removed]",
      "text/plain": [
       "<matplotlib.figure.Figure at 0x11c53d890>"
      ]
     },
     "metadata": {},
     "output_type": "display_data"
    }
   ],
   "source": [
    "sb.countplot(x=\"hotel_feature_2\", data=df)\n",
    "plt.savefig(\"hotel_feature_2.png\")"
   ]
  },
  {
   "cell_type": "code",
   "execution_count": 103,
   "metadata": {
    "collapsed": false
   },
   "outputs": [
    {
     "data": {
      "image/png": "[encoded data removed]",
      "text/plain": [
       "<matplotlib.figure.Figure at 0x11ee9e610>"
      ]
     },
     "metadata": {},
     "output_type": "display_data"
    }
   ],
   "source": [
    "sb.distplot(df['hotel_feature_3'])\n",
    "plt.savefig(\"hotel_feature_3.png\")"
   ]
  },
  {
   "cell_type": "code",
   "execution_count": 104,
   "metadata": {
    "collapsed": false
   },
   "outputs": [
    {
     "data": {
      "image/png": "[encoded data removed]",
      "text/plain": [
       "<matplotlib.figure.Figure at 0x11ee9e8d0>"
      ]
     },
     "metadata": {},
     "output_type": "display_data"
    }
   ],
   "source": [
    "sb.countplot(x=\"hotel_feature_4\", data=df)\n",
    "plt.savefig(\"hotel_feature_4.png\")"
   ]
  },
  {
   "cell_type": "code",
   "execution_count": 105,
   "metadata": {
    "collapsed": false
   },
   "outputs": [
    {
     "data": {
      "image/png": "[encoded data removed]",
      "text/plain": [
       "<matplotlib.figure.Figure at 0x120e68650>"
      ]
     },
     "metadata": {},
     "output_type": "display_data"
    }
   ],
   "source": [
    "sb.countplot(x=\"hotel_feature_5\", data=df)\n",
    "plt.savefig(\"hotel_feature_5.png\")"
   ]
  },
  {
   "cell_type": "markdown",
   "metadata": {},
   "source": [
    "# Correlations Between Columns"
   ]
  },
  {
   "cell_type": "markdown",
   "metadata": {},
   "source": [
    "### Correlation Matrix"
   ]
  },
  {
   "cell_type": "code",
   "execution_count": 106,
   "metadata": {
    "collapsed": false
   },
   "outputs": [
    {
     "data": {
      "image/png": "[encoded data removed]",
      "text/plain": [
       "<matplotlib.figure.Figure at 0x11ee9ecd0>"
      ]
     },
     "metadata": {},
     "output_type": "display_data"
    }
   ],
   "source": [
    "plt.matshow(df.corr(), interpolation='none', vmin=0, vmax=1)\n",
    "plt.savefig(\"correlation_matrix.png\")"
   ]
  },
  {
   "cell_type": "markdown",
   "metadata": {},
   "source": [
    "### Correlations I Will Explore"
   ]
  },
  {
   "cell_type": "markdown",
   "metadata": {},
   "source": [
    "I think the following correlations would be interesting to explore:\n",
    "- price_per_night -> hotel_feature_1\n",
    "- price_per_night -> hotel_feature_2\n",
    "- price_per_night -> hotel_feature_3\n",
    "- price_per_night -> hotel_feature_4\n",
    "- price_per_night -> hotel_feature_5\n",
    "- number_of_searches -> booked\n",
    "- is_promo -> booked\n",
    "- price_per_night -> booked\n",
    "- number_children -> hotel_feature_1\n",
    "- number_children -> hotel_feature_2\n",
    "- number_children -> hotel_feature_3\n",
    "- number_children -> hotel_feature_4\n",
    "- number_children -> hotel_feature_5"
   ]
  },
  {
   "cell_type": "code",
   "execution_count": 107,
   "metadata": {
    "collapsed": true
   },
   "outputs": [],
   "source": [
    "corr_pairs = [['price_per_night', 'hotel_feature_1'], \n",
    "              ['price_per_night', 'hotel_feature_2'], \n",
    "              ['price_per_night', 'hotel_feature_3'], \n",
    "              ['price_per_night', 'hotel_feature_4'],\n",
    "              ['price_per_night', 'hotel_feature_5'],\n",
    "              ['num_children', 'hotel_feature_1'],\n",
    "              ['num_children', 'hotel_feature_2'],\n",
    "              ['num_children', 'hotel_feature_3'],\n",
    "              ['num_children', 'hotel_feature_4'],\n",
    "              ['num_children', 'hotel_feature_5'],\n",
    "              ['num_adults', 'hotel_feature_1'],\n",
    "              ['num_adults', 'hotel_feature_2'],\n",
    "              ['num_adults', 'hotel_feature_3'],\n",
    "              ['num_adults', 'hotel_feature_4'],\n",
    "              ['num_adults', 'hotel_feature_5'],\n",
    "             ]"
   ]
  },
  {
   "cell_type": "markdown",
   "metadata": {},
   "source": [
    "We can now look at the statistical significance of the pearson correlation between these parameters."
   ]
  },
  {
   "cell_type": "code",
   "execution_count": 108,
   "metadata": {
    "collapsed": false
   },
   "outputs": [
    {
     "name": "stdout",
     "output_type": "stream",
     "text": [
      "The correlation for price_per_night & hotel_feature_1 is: \n",
      "(-0.1416896479642599, 5.4027886280529437e-201)\n",
      "\n",
      "The correlation for price_per_night & hotel_feature_2 is: \n",
      "(-0.028421950788344568, 1.55753731736103e-09)\n",
      "\n",
      "The correlation for price_per_night & hotel_feature_3 is: \n",
      "(0.044385324809133452, 4.0049752195731767e-21)\n",
      "\n",
      "The correlation for price_per_night & hotel_feature_4 is: \n",
      "(0.14022619320021484, 7.2630881743440273e-197)\n",
      "\n",
      "The correlation for price_per_night & hotel_feature_5 is: \n",
      "(-0.039001291437989694, 1.1577949731445183e-16)\n",
      "\n",
      "The correlation for num_children & hotel_feature_1 is: \n",
      "(-0.11668571735346239, 1.568906813480986e-136)\n",
      "\n",
      "The correlation for num_children & hotel_feature_2 is: \n",
      "(-0.00082246088750252233, 0.86131696846304773)\n",
      "\n",
      "The correlation for num_children & hotel_feature_3 is: \n",
      "(-0.1068750232195118, 9.8673819796732317e-115)\n",
      "\n",
      "The correlation for num_children & hotel_feature_4 is: \n",
      "(0.072785751712647673, 4.671144161736554e-54)\n",
      "\n",
      "The correlation for num_children & hotel_feature_5 is: \n",
      "(-0.10972282081780213, 7.3770934713596284e-121)\n",
      "\n",
      "The correlation for num_adults & hotel_feature_1 is: \n",
      "(-0.057893110624354691, 8.2715660600929231e-35)\n",
      "\n",
      "The correlation for num_adults & hotel_feature_2 is: \n",
      "(-0.0064324277589976608, 0.17183904183323775)\n",
      "\n",
      "The correlation for num_adults & hotel_feature_3 is: \n",
      "(-0.1262823408798138, 9.4330202473608536e-160)\n",
      "\n",
      "The correlation for num_adults & hotel_feature_4 is: \n",
      "(0.0020708047476599312, 0.66004022392392525)\n",
      "\n",
      "The correlation for num_adults & hotel_feature_5 is: \n",
      "(-0.087512836890300691, 2.0439028205056056e-77)\n",
      "\n"
     ]
    }
   ],
   "source": [
    "for pair in corr_pairs:\n",
    "    print \"The correlation for \" + pair[0] + \" & \" + pair[1] + \" is: \"\n",
    "    print str(pearsonr(df[pair[0]], df[pair[1]]))\n",
    "    print \"\""
   ]
  },
  {
   "cell_type": "markdown",
   "metadata": {},
   "source": [
    "As we can see from the correlation coefficient, there is no strong correlation between any of these pairs."
   ]
  },
  {
   "cell_type": "markdown",
   "metadata": {},
   "source": [
    "## Promo Code Leads to a Greater Chance of Booking"
   ]
  },
  {
   "cell_type": "markdown",
   "metadata": {},
   "source": [
    "We can now determine if there is any correlation between a search result having a promo code, and that search resulting in a booking."
   ]
  },
  {
   "cell_type": "code",
   "execution_count": 109,
   "metadata": {
    "collapsed": false
   },
   "outputs": [
    {
     "name": "stdout",
     "output_type": "stream",
     "text": [
      "Promoed in the booked population: 0.00828335993787\n",
      "Promoed in the not booked population: 0.00487671482612\n"
     ]
    }
   ],
   "source": [
    "num_promo = len(df[df['is_promo'] == 1])\n",
    "num_not_promo = len(df[df['is_promo'] == 0])\n",
    "\n",
    "num_promo_booked = len(df[(df['booked'] == 1) & (df['is_promo'] == 1)]) \n",
    "num_not_promo_booked = len(df[(df['booked'] == 1) & (df['is_promo'] == 0)]) \n",
    "\n",
    "print \"Promoed in the booked population: \" + str((num_promo_booked) / float(num_promo))\n",
    "print \"Promoed in the not booked population: \" + str(num_not_promo_booked / float(num_not_promo))"
   ]
  },
  {
   "cell_type": "code",
   "execution_count": 110,
   "metadata": {
    "collapsed": false
   },
   "outputs": [
    {
     "name": "stdout",
     "output_type": "stream",
     "text": [
      "1.08424636409e-05\n"
     ]
    }
   ],
   "source": [
    "obs = np.array([[num_promo-num_promo_booked, num_promo_booked], [num_not_promo-num_not_promo_booked, num_not_promo_booked]])\n",
    "chi2, p, dof, expected = stats.chi2_contingency(obs)\n",
    "print str(p)"
   ]
  },
  {
   "cell_type": "markdown",
   "metadata": {},
   "source": [
    "As we can see from this p-value, there is a statistically significant correlation between a search result having a promo code and that search resulting in a booking."
   ]
  },
  {
   "cell_type": "markdown",
   "metadata": {},
   "source": [
    "## Investigating Price Category and Booking Conversion"
   ]
  },
  {
   "cell_type": "markdown",
   "metadata": {},
   "source": [
    "We can now investigate if there is a correlation between a 'price_category' and converting to a booking."
   ]
  },
  {
   "cell_type": "code",
   "execution_count": 148,
   "metadata": {
    "collapsed": false
   },
   "outputs": [],
   "source": [
    "def count_and_booked(category):\n",
    "    num_booked = len(df[(df['booked'] == 1) & (df['price_category'] == category)])\n",
    "    num = len(df[df['price_category'] == category])\n",
    "    return (num_booked, num)"
   ]
  },
  {
   "cell_type": "code",
   "execution_count": 149,
   "metadata": {
    "collapsed": false
   },
   "outputs": [
    {
     "name": "stdout",
     "output_type": "stream",
     "text": [
      "Percentage for 1 is: 0.00889537971322\n",
      "Percentage for 2 is: 0.00639403223658\n",
      "Percentage for 3 is: 0.00718180609124\n",
      "Percentage for 4 is: 0.00691489361702\n",
      "Percentage for 5 is: 0.00625\n",
      "Percentage for 6 is: 0.00412234042553\n"
     ]
    }
   ],
   "source": [
    "for i in [x  for x in range(1, 7)]:\n",
    "    num_booked, num = count_and_booked(i)\n",
    "    print \"Percentage for \" + str(i) + \" is: \" + str(num_booked/float(num))"
   ]
  },
  {
   "cell_type": "code",
   "execution_count": 157,
   "metadata": {
    "collapsed": false
   },
   "outputs": [],
   "source": [
    "def get_chi_pvalue(num, num_booked):\n",
    "    obs = np.array([[num-num_booked, num_booked], [len(df)-num, len(df[df['booked'] == 1])-num_booked]])\n",
    "    chi2, p, dof, expected = stats.chi2_contingency(obs)\n",
    "    return p"
   ]
  },
  {
   "cell_type": "code",
   "execution_count": 159,
   "metadata": {
    "collapsed": false
   },
   "outputs": [
    {
     "name": "stdout",
     "output_type": "stream",
     "text": [
      "Percentage for 1 is: 0.0086406285599\n",
      "Percentage for 2 is: 0.879367946384\n",
      "Percentage for 3 is: 0.538446554711\n",
      "Percentage for 4 is: 0.762355643353\n",
      "Percentage for 5 is: 0.748283222141\n",
      "Percentage for 6 is: 0.0048746074753\n"
     ]
    }
   ],
   "source": [
    "for i in [x  for x in range(1, 7)]:\n",
    "    num_booked, num = count_and_booked(i)\n",
    "    print \"Percentage for \" + str(i) + \" is: \" + str(get_chi_pvalue(num, num_booked))"
   ]
  },
  {
   "cell_type": "markdown",
   "metadata": {},
   "source": [
    "From these results we can see that."
   ]
  },
  {
   "cell_type": "code",
   "execution_count": null,
   "metadata": {
    "collapsed": true
   },
   "outputs": [],
   "source": []
  }
 ],
 "metadata": {
  "kernelspec": {
   "display_name": "Python 2",
   "language": "python",
   "name": "python2"
  },
  "language_info": {
   "codemirror_mode": {
    "name": "ipython",
    "version": 2
   },
   "file_extension": ".py",
   "mimetype": "text/x-python",
   "name": "python",
   "nbconvert_exporter": "python",
   "pygments_lexer": "ipython2",
   "version": "2.7.11"
  }
 },
 "nbformat": 4,
 "nbformat_minor": 0
}
