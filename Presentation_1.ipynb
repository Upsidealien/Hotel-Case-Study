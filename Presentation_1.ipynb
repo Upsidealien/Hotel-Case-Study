{
 "cells": [
  {
   "cell_type": "code",
   "execution_count": 79,
   "metadata": {
    "collapsed": false
   },
   "outputs": [],
   "source": [
    "import numpy as np\n",
    "import pandas as pd\n",
    "import matplotlib.pyplot as plt\n",
    "from scipy import stats\n",
    "from scipy.stats import pearsonr"
   ]
  },
  {
   "cell_type": "code",
   "execution_count": 2,
   "metadata": {
    "collapsed": true
   },
   "outputs": [],
   "source": [
    "df = pd.read_csv('case_study_data.csv')"
   ]
  },
  {
   "cell_type": "markdown",
   "metadata": {},
   "source": [
    "# Clean the Data"
   ]
  },
  {
   "cell_type": "markdown",
   "metadata": {},
   "source": [
    "### Missing Data"
   ]
  },
  {
   "cell_type": "code",
   "execution_count": 3,
   "metadata": {
    "collapsed": false
   },
   "outputs": [
    {
     "data": {
      "text/html": [
       "<div>\n",
       "<table border=\"1\" class=\"dataframe\">\n",
       "  <thead>\n",
       "    <tr style=\"text-align: right;\">\n",
       "      <th></th>\n",
       "      <th>search_date</th>\n",
       "      <th>arrival</th>\n",
       "      <th>departure</th>\n",
       "      <th>num_adults</th>\n",
       "      <th>num_children</th>\n",
       "      <th>search_id</th>\n",
       "      <th>hotel_id</th>\n",
       "      <th>hotel_price</th>\n",
       "      <th>is_promo</th>\n",
       "      <th>hotel_feature_1</th>\n",
       "      <th>hotel_feature_2</th>\n",
       "      <th>hotel_feature_3</th>\n",
       "      <th>hotel_feature_4</th>\n",
       "      <th>hotel_feature_5</th>\n",
       "      <th>booked</th>\n",
       "    </tr>\n",
       "  </thead>\n",
       "  <tbody>\n",
       "    <tr>\n",
       "      <th>count</th>\n",
       "      <td>46647.000000</td>\n",
       "      <td>46647.000000</td>\n",
       "      <td>46647.000000</td>\n",
       "      <td>46647.000000</td>\n",
       "      <td>46647.000000</td>\n",
       "      <td>46647.000000</td>\n",
       "      <td>46647.000000</td>\n",
       "      <td>46647.000000</td>\n",
       "      <td>46647.000000</td>\n",
       "      <td>45445.000000</td>\n",
       "      <td>46322.000000</td>\n",
       "      <td>46647.000000</td>\n",
       "      <td>46647.000000</td>\n",
       "      <td>46647.000000</td>\n",
       "      <td>46647.000000</td>\n",
       "    </tr>\n",
       "    <tr>\n",
       "      <th>mean</th>\n",
       "      <td>11.734517</td>\n",
       "      <td>126.788046</td>\n",
       "      <td>134.479902</td>\n",
       "      <td>2.370570</td>\n",
       "      <td>0.812335</td>\n",
       "      <td>5509.648659</td>\n",
       "      <td>23095.564302</td>\n",
       "      <td>2599.055621</td>\n",
       "      <td>0.501490</td>\n",
       "      <td>76.849742</td>\n",
       "      <td>63.108847</td>\n",
       "      <td>59.068729</td>\n",
       "      <td>5.982335</td>\n",
       "      <td>2.357601</td>\n",
       "      <td>0.006603</td>\n",
       "    </tr>\n",
       "    <tr>\n",
       "      <th>std</th>\n",
       "      <td>7.336887</td>\n",
       "      <td>90.867556</td>\n",
       "      <td>92.517336</td>\n",
       "      <td>0.912667</td>\n",
       "      <td>0.949223</td>\n",
       "      <td>4460.689701</td>\n",
       "      <td>13480.392766</td>\n",
       "      <td>4490.091588</td>\n",
       "      <td>0.500003</td>\n",
       "      <td>41.747830</td>\n",
       "      <td>22.846125</td>\n",
       "      <td>51.378153</td>\n",
       "      <td>6.014773</td>\n",
       "      <td>1.811249</td>\n",
       "      <td>0.080990</td>\n",
       "    </tr>\n",
       "    <tr>\n",
       "      <th>min</th>\n",
       "      <td>0.000000</td>\n",
       "      <td>0.000000</td>\n",
       "      <td>1.000000</td>\n",
       "      <td>1.000000</td>\n",
       "      <td>0.000000</td>\n",
       "      <td>0.000000</td>\n",
       "      <td>1.000000</td>\n",
       "      <td>30.370000</td>\n",
       "      <td>0.000000</td>\n",
       "      <td>2.000000</td>\n",
       "      <td>0.000000</td>\n",
       "      <td>1.000000</td>\n",
       "      <td>0.000000</td>\n",
       "      <td>0.000000</td>\n",
       "      <td>0.000000</td>\n",
       "    </tr>\n",
       "    <tr>\n",
       "      <th>25%</th>\n",
       "      <td>6.000000</td>\n",
       "      <td>49.000000</td>\n",
       "      <td>54.000000</td>\n",
       "      <td>2.000000</td>\n",
       "      <td>0.000000</td>\n",
       "      <td>1656.000000</td>\n",
       "      <td>11474.000000</td>\n",
       "      <td>559.400000</td>\n",
       "      <td>0.000000</td>\n",
       "      <td>46.238512</td>\n",
       "      <td>52.000000</td>\n",
       "      <td>16.000000</td>\n",
       "      <td>1.000000</td>\n",
       "      <td>1.000000</td>\n",
       "      <td>0.000000</td>\n",
       "    </tr>\n",
       "    <tr>\n",
       "      <th>50%</th>\n",
       "      <td>12.000000</td>\n",
       "      <td>109.000000</td>\n",
       "      <td>116.000000</td>\n",
       "      <td>2.000000</td>\n",
       "      <td>0.000000</td>\n",
       "      <td>4488.000000</td>\n",
       "      <td>23309.000000</td>\n",
       "      <td>1336.600000</td>\n",
       "      <td>1.000000</td>\n",
       "      <td>67.712628</td>\n",
       "      <td>52.000000</td>\n",
       "      <td>46.000000</td>\n",
       "      <td>4.000000</td>\n",
       "      <td>1.000000</td>\n",
       "      <td>0.000000</td>\n",
       "    </tr>\n",
       "    <tr>\n",
       "      <th>75%</th>\n",
       "      <td>17.000000</td>\n",
       "      <td>187.000000</td>\n",
       "      <td>197.000000</td>\n",
       "      <td>3.000000</td>\n",
       "      <td>2.000000</td>\n",
       "      <td>8727.000000</td>\n",
       "      <td>33668.000000</td>\n",
       "      <td>3090.510000</td>\n",
       "      <td>1.000000</td>\n",
       "      <td>128.117134</td>\n",
       "      <td>90.000000</td>\n",
       "      <td>86.000000</td>\n",
       "      <td>9.000000</td>\n",
       "      <td>4.000000</td>\n",
       "      <td>0.000000</td>\n",
       "    </tr>\n",
       "    <tr>\n",
       "      <th>max</th>\n",
       "      <td>25.000000</td>\n",
       "      <td>493.000000</td>\n",
       "      <td>501.000000</td>\n",
       "      <td>8.000000</td>\n",
       "      <td>6.000000</td>\n",
       "      <td>16015.000000</td>\n",
       "      <td>46647.000000</td>\n",
       "      <td>175454.410000</td>\n",
       "      <td>1.000000</td>\n",
       "      <td>143.777606</td>\n",
       "      <td>100.000000</td>\n",
       "      <td>287.000000</td>\n",
       "      <td>36.000000</td>\n",
       "      <td>7.000000</td>\n",
       "      <td>1.000000</td>\n",
       "    </tr>\n",
       "  </tbody>\n",
       "</table>\n",
       "</div>"
      ],
      "text/plain": [
       "        search_date       arrival     departure    num_adults  num_children  \\\n",
       "count  46647.000000  46647.000000  46647.000000  46647.000000  46647.000000   \n",
       "mean      11.734517    126.788046    134.479902      2.370570      0.812335   \n",
       "std        7.336887     90.867556     92.517336      0.912667      0.949223   \n",
       "min        0.000000      0.000000      1.000000      1.000000      0.000000   \n",
       "25%        6.000000     49.000000     54.000000      2.000000      0.000000   \n",
       "50%       12.000000    109.000000    116.000000      2.000000      0.000000   \n",
       "75%       17.000000    187.000000    197.000000      3.000000      2.000000   \n",
       "max       25.000000    493.000000    501.000000      8.000000      6.000000   \n",
       "\n",
       "          search_id      hotel_id    hotel_price      is_promo  \\\n",
       "count  46647.000000  46647.000000   46647.000000  46647.000000   \n",
       "mean    5509.648659  23095.564302    2599.055621      0.501490   \n",
       "std     4460.689701  13480.392766    4490.091588      0.500003   \n",
       "min        0.000000      1.000000      30.370000      0.000000   \n",
       "25%     1656.000000  11474.000000     559.400000      0.000000   \n",
       "50%     4488.000000  23309.000000    1336.600000      1.000000   \n",
       "75%     8727.000000  33668.000000    3090.510000      1.000000   \n",
       "max    16015.000000  46647.000000  175454.410000      1.000000   \n",
       "\n",
       "       hotel_feature_1  hotel_feature_2  hotel_feature_3  hotel_feature_4  \\\n",
       "count     45445.000000     46322.000000     46647.000000     46647.000000   \n",
       "mean         76.849742        63.108847        59.068729         5.982335   \n",
       "std          41.747830        22.846125        51.378153         6.014773   \n",
       "min           2.000000         0.000000         1.000000         0.000000   \n",
       "25%          46.238512        52.000000        16.000000         1.000000   \n",
       "50%          67.712628        52.000000        46.000000         4.000000   \n",
       "75%         128.117134        90.000000        86.000000         9.000000   \n",
       "max         143.777606       100.000000       287.000000        36.000000   \n",
       "\n",
       "       hotel_feature_5        booked  \n",
       "count     46647.000000  46647.000000  \n",
       "mean          2.357601      0.006603  \n",
       "std           1.811249      0.080990  \n",
       "min           0.000000      0.000000  \n",
       "25%           1.000000      0.000000  \n",
       "50%           1.000000      0.000000  \n",
       "75%           4.000000      0.000000  \n",
       "max           7.000000      1.000000  "
      ]
     },
     "execution_count": 3,
     "metadata": {},
     "output_type": "execute_result"
    }
   ],
   "source": [
    "df.describe()"
   ]
  },
  {
   "cell_type": "markdown",
   "metadata": {},
   "source": [
    "We can see from the count of each column that 'hotel_feature_1' and 'hotel_feature_2' are missing values"
   ]
  },
  {
   "cell_type": "code",
   "execution_count": 4,
   "metadata": {
    "collapsed": false
   },
   "outputs": [
    {
     "name": "stdout",
     "output_type": "stream",
     "text": [
      "Number of missing hotel_feature_1 entries: 1202\n",
      "Number of missing hotel_feature_2 entries: 325\n"
     ]
    }
   ],
   "source": [
    "print \"Number of missing hotel_feature_1 entries: \" + str(len(df[np.isnan(df['hotel_feature_1'])]))\n",
    "print \"Number of missing hotel_feature_2 entries: \" + str(len(df[np.isnan(df['hotel_feature_2'])]))"
   ]
  },
  {
   "cell_type": "code",
   "execution_count": 5,
   "metadata": {
    "collapsed": false
   },
   "outputs": [
    {
     "data": {
      "text/html": [
       "<div>\n",
       "<table border=\"1\" class=\"dataframe\">\n",
       "  <thead>\n",
       "    <tr style=\"text-align: right;\">\n",
       "      <th></th>\n",
       "      <th>index</th>\n",
       "      <th>search_date</th>\n",
       "      <th>arrival</th>\n",
       "      <th>departure</th>\n",
       "      <th>num_adults</th>\n",
       "      <th>num_children</th>\n",
       "      <th>search_id</th>\n",
       "      <th>hotel_id</th>\n",
       "      <th>hotel_price</th>\n",
       "      <th>is_promo</th>\n",
       "      <th>hotel_feature_1</th>\n",
       "      <th>hotel_feature_2</th>\n",
       "      <th>hotel_feature_3</th>\n",
       "      <th>hotel_feature_4</th>\n",
       "      <th>hotel_feature_5</th>\n",
       "      <th>booked</th>\n",
       "    </tr>\n",
       "  </thead>\n",
       "  <tbody>\n",
       "    <tr>\n",
       "      <th>0</th>\n",
       "      <td>0</td>\n",
       "      <td>25</td>\n",
       "      <td>457</td>\n",
       "      <td>471</td>\n",
       "      <td>3</td>\n",
       "      <td>2</td>\n",
       "      <td>0</td>\n",
       "      <td>517</td>\n",
       "      <td>1724.38</td>\n",
       "      <td>0</td>\n",
       "      <td>64.490309</td>\n",
       "      <td>85.0</td>\n",
       "      <td>7</td>\n",
       "      <td>0</td>\n",
       "      <td>0</td>\n",
       "      <td>0</td>\n",
       "    </tr>\n",
       "    <tr>\n",
       "      <th>1</th>\n",
       "      <td>1</td>\n",
       "      <td>25</td>\n",
       "      <td>457</td>\n",
       "      <td>471</td>\n",
       "      <td>3</td>\n",
       "      <td>2</td>\n",
       "      <td>0</td>\n",
       "      <td>517</td>\n",
       "      <td>1724.38</td>\n",
       "      <td>0</td>\n",
       "      <td>64.490309</td>\n",
       "      <td>85.0</td>\n",
       "      <td>7</td>\n",
       "      <td>0</td>\n",
       "      <td>0</td>\n",
       "      <td>0</td>\n",
       "    </tr>\n",
       "    <tr>\n",
       "      <th>2</th>\n",
       "      <td>2</td>\n",
       "      <td>25</td>\n",
       "      <td>457</td>\n",
       "      <td>471</td>\n",
       "      <td>3</td>\n",
       "      <td>2</td>\n",
       "      <td>0</td>\n",
       "      <td>29771</td>\n",
       "      <td>1905.54</td>\n",
       "      <td>1</td>\n",
       "      <td>25.826343</td>\n",
       "      <td>52.0</td>\n",
       "      <td>13</td>\n",
       "      <td>1</td>\n",
       "      <td>1</td>\n",
       "      <td>0</td>\n",
       "    </tr>\n",
       "    <tr>\n",
       "      <th>3</th>\n",
       "      <td>3</td>\n",
       "      <td>25</td>\n",
       "      <td>458</td>\n",
       "      <td>463</td>\n",
       "      <td>2</td>\n",
       "      <td>0</td>\n",
       "      <td>1</td>\n",
       "      <td>517</td>\n",
       "      <td>2077.95</td>\n",
       "      <td>0</td>\n",
       "      <td>64.490309</td>\n",
       "      <td>85.0</td>\n",
       "      <td>9</td>\n",
       "      <td>0</td>\n",
       "      <td>0</td>\n",
       "      <td>0</td>\n",
       "    </tr>\n",
       "    <tr>\n",
       "      <th>4</th>\n",
       "      <td>4</td>\n",
       "      <td>25</td>\n",
       "      <td>458</td>\n",
       "      <td>463</td>\n",
       "      <td>2</td>\n",
       "      <td>0</td>\n",
       "      <td>1</td>\n",
       "      <td>40744</td>\n",
       "      <td>6822.10</td>\n",
       "      <td>0</td>\n",
       "      <td>24.959968</td>\n",
       "      <td>52.0</td>\n",
       "      <td>11</td>\n",
       "      <td>1</td>\n",
       "      <td>2</td>\n",
       "      <td>0</td>\n",
       "    </tr>\n",
       "  </tbody>\n",
       "</table>\n",
       "</div>"
      ],
      "text/plain": [
       "   index  search_date  arrival  departure  num_adults  num_children  \\\n",
       "0      0           25      457        471           3             2   \n",
       "1      1           25      457        471           3             2   \n",
       "2      2           25      457        471           3             2   \n",
       "3      3           25      458        463           2             0   \n",
       "4      4           25      458        463           2             0   \n",
       "\n",
       "   search_id  hotel_id  hotel_price  is_promo  hotel_feature_1  \\\n",
       "0          0       517      1724.38         0        64.490309   \n",
       "1          0       517      1724.38         0        64.490309   \n",
       "2          0     29771      1905.54         1        25.826343   \n",
       "3          1       517      2077.95         0        64.490309   \n",
       "4          1     40744      6822.10         0        24.959968   \n",
       "\n",
       "   hotel_feature_2  hotel_feature_3  hotel_feature_4  hotel_feature_5  booked  \n",
       "0             85.0                7                0                0       0  \n",
       "1             85.0                7                0                0       0  \n",
       "2             52.0               13                1                1       0  \n",
       "3             85.0                9                0                0       0  \n",
       "4             52.0               11                1                2       0  "
      ]
     },
     "execution_count": 5,
     "metadata": {},
     "output_type": "execute_result"
    }
   ],
   "source": [
    "df.reset_index('hotel_id').head()"
   ]
  },
  {
   "cell_type": "markdown",
   "metadata": {},
   "source": [
    "#### Hotel Feature 1"
   ]
  },
  {
   "cell_type": "markdown",
   "metadata": {},
   "source": [
    "Check to see if all unique 'hotel_id' rows are paired with the same unique 'hotel_feature_1' e.g. hotel_id=517 will always have hotel_feature_1=64.490309 etc."
   ]
  },
  {
   "cell_type": "code",
   "execution_count": 6,
   "metadata": {
    "collapsed": false
   },
   "outputs": [
    {
     "data": {
      "text/plain": [
       "1.0"
      ]
     },
     "execution_count": 6,
     "metadata": {},
     "output_type": "execute_result"
    }
   ],
   "source": [
    "df_nonan_feature1 = df[np.isnan(df['hotel_feature_1']) != True]\n",
    "hotel_id_feature1_pairs_count = df_nonan_feature1.groupby('hotel_id').agg({'hotel_feature_1': pd.Series.nunique})\n",
    "max(hotel_id_feature1_pairs_count['hotel_feature_1'])"
   ]
  },
  {
   "cell_type": "markdown",
   "metadata": {},
   "source": [
    "Since we can see that they are paired, we can replace missing values of hotel_feature_1 with a value based on their 'hotel_id'"
   ]
  },
  {
   "cell_type": "code",
   "execution_count": 7,
   "metadata": {
    "collapsed": false
   },
   "outputs": [],
   "source": [
    "hotel_id_feature1_pairs = df_nonan_feature1.groupby('hotel_id').agg({'hotel_feature_1':'first'})"
   ]
  },
  {
   "cell_type": "code",
   "execution_count": 8,
   "metadata": {
    "collapsed": false
   },
   "outputs": [
    {
     "data": {
      "text/html": [
       "<div>\n",
       "<table border=\"1\" class=\"dataframe\">\n",
       "  <thead>\n",
       "    <tr style=\"text-align: right;\">\n",
       "      <th></th>\n",
       "      <th>hotel_id</th>\n",
       "      <th>hotel_feature_1</th>\n",
       "    </tr>\n",
       "  </thead>\n",
       "  <tbody>\n",
       "    <tr>\n",
       "      <th>0</th>\n",
       "      <td>1</td>\n",
       "      <td>63.725976</td>\n",
       "    </tr>\n",
       "    <tr>\n",
       "      <th>1</th>\n",
       "      <td>116</td>\n",
       "      <td>75.379042</td>\n",
       "    </tr>\n",
       "    <tr>\n",
       "      <th>2</th>\n",
       "      <td>175</td>\n",
       "      <td>52.820451</td>\n",
       "    </tr>\n",
       "    <tr>\n",
       "      <th>3</th>\n",
       "      <td>297</td>\n",
       "      <td>128.856509</td>\n",
       "    </tr>\n",
       "    <tr>\n",
       "      <th>4</th>\n",
       "      <td>443</td>\n",
       "      <td>120.440857</td>\n",
       "    </tr>\n",
       "  </tbody>\n",
       "</table>\n",
       "</div>"
      ],
      "text/plain": [
       "   hotel_id  hotel_feature_1\n",
       "0         1        63.725976\n",
       "1       116        75.379042\n",
       "2       175        52.820451\n",
       "3       297       128.856509\n",
       "4       443       120.440857"
      ]
     },
     "execution_count": 8,
     "metadata": {},
     "output_type": "execute_result"
    }
   ],
   "source": [
    "hotel_id_feature1_pairs.reset_index('hotel_id').head()"
   ]
  },
  {
   "cell_type": "markdown",
   "metadata": {},
   "source": [
    "Now we have a series of pairs of 'hotel_id' to 'hotel_feature_1' we can insert the missing information into the series"
   ]
  },
  {
   "cell_type": "code",
   "execution_count": 9,
   "metadata": {
    "collapsed": false
   },
   "outputs": [
    {
     "data": {
      "text/plain": [
       "75.3790421802"
      ]
     },
     "execution_count": 9,
     "metadata": {},
     "output_type": "execute_result"
    }
   ],
   "source": [
    "hotel_id_feature1_pairs.loc[116]['hotel_feature_1'].item()"
   ]
  },
  {
   "cell_type": "code",
   "execution_count": 10,
   "metadata": {
    "collapsed": false
   },
   "outputs": [
    {
     "ename": "NameError",
     "evalue": "name 'replace_nan_with_hotel_feature_1' is not defined",
     "output_type": "error",
     "traceback": [
      "\u001b[0;31m---------------------------------------------------------------------------\u001b[0m",
      "\u001b[0;31mNameError\u001b[0m                                 Traceback (most recent call last)",
      "\u001b[0;32m<ipython-input-10-5f9d6221def9>\u001b[0m in \u001b[0;36m<module>\u001b[0;34m()\u001b[0m\n\u001b[1;32m      4\u001b[0m \u001b[0;34m\u001b[0m\u001b[0m\n\u001b[1;32m      5\u001b[0m \u001b[0;31m#df.apply(lambda row: hotel_id_feature1_pairs.loc[row['hotel_id']]['hotel_feature_1'].item())\u001b[0m\u001b[0;34m\u001b[0m\u001b[0;34m\u001b[0m\u001b[0m\n\u001b[0;32m----> 6\u001b[0;31m \u001b[0mreplace_nan_with_hotel_feature_1\u001b[0m\u001b[0;34m(\u001b[0m\u001b[0;36m116\u001b[0m\u001b[0;34m,\u001b[0m \u001b[0mhotel_id_feature1_pairs\u001b[0m\u001b[0;34m)\u001b[0m\u001b[0;34m\u001b[0m\u001b[0m\n\u001b[0m",
      "\u001b[0;31mNameError\u001b[0m: name 'replace_nan_with_hotel_feature_1' is not defined"
     ]
    }
   ],
   "source": [
    "def get_hotel_feature_1(hotel_id):\n",
    "    return hotel_id_feature1_pairs.loc[hotel_id]['hotel_feature_1'].item()\n",
    "\n",
    "\n",
    "#df.apply(lambda row: hotel_id_feature1_pairs.loc[row['hotel_id']]['hotel_feature_1'].item())\n",
    "replace_nan_with_hotel_feature_1(116, hotel_id_feature1_pairs)"
   ]
  },
  {
   "cell_type": "code",
   "execution_count": 11,
   "metadata": {
    "collapsed": false
   },
   "outputs": [
    {
     "data": {
      "text/plain": [
       "517"
      ]
     },
     "execution_count": 11,
     "metadata": {},
     "output_type": "execute_result"
    }
   ],
   "source": [
    "df['hotel_id'][0]"
   ]
  },
  {
   "cell_type": "markdown",
   "metadata": {},
   "source": [
    "# ** I Can't Figure Out How To Do This So I'm Deleting The Rows"
   ]
  },
  {
   "cell_type": "code",
   "execution_count": 12,
   "metadata": {
    "collapsed": true
   },
   "outputs": [],
   "source": [
    "df = df[np.isnan(df['hotel_feature_1']) != True]\n",
    "df = df[np.isnan(df['hotel_feature_2']) != True]"
   ]
  },
  {
   "cell_type": "code",
   "execution_count": 13,
   "metadata": {
    "collapsed": false
   },
   "outputs": [
    {
     "data": {
      "text/html": [
       "<div>\n",
       "<table border=\"1\" class=\"dataframe\">\n",
       "  <thead>\n",
       "    <tr style=\"text-align: right;\">\n",
       "      <th></th>\n",
       "      <th>search_date</th>\n",
       "      <th>arrival</th>\n",
       "      <th>departure</th>\n",
       "      <th>num_adults</th>\n",
       "      <th>num_children</th>\n",
       "      <th>search_id</th>\n",
       "      <th>hotel_id</th>\n",
       "      <th>hotel_price</th>\n",
       "      <th>is_promo</th>\n",
       "      <th>hotel_feature_1</th>\n",
       "      <th>hotel_feature_2</th>\n",
       "      <th>hotel_feature_3</th>\n",
       "      <th>hotel_feature_4</th>\n",
       "      <th>hotel_feature_5</th>\n",
       "      <th>booked</th>\n",
       "    </tr>\n",
       "  </thead>\n",
       "  <tbody>\n",
       "    <tr>\n",
       "      <th>0</th>\n",
       "      <td>25</td>\n",
       "      <td>457</td>\n",
       "      <td>471</td>\n",
       "      <td>3</td>\n",
       "      <td>2</td>\n",
       "      <td>0</td>\n",
       "      <td>517</td>\n",
       "      <td>1724.38</td>\n",
       "      <td>0</td>\n",
       "      <td>64.490309</td>\n",
       "      <td>85.0</td>\n",
       "      <td>7</td>\n",
       "      <td>0</td>\n",
       "      <td>0</td>\n",
       "      <td>0</td>\n",
       "    </tr>\n",
       "    <tr>\n",
       "      <th>1</th>\n",
       "      <td>25</td>\n",
       "      <td>457</td>\n",
       "      <td>471</td>\n",
       "      <td>3</td>\n",
       "      <td>2</td>\n",
       "      <td>0</td>\n",
       "      <td>517</td>\n",
       "      <td>1724.38</td>\n",
       "      <td>0</td>\n",
       "      <td>64.490309</td>\n",
       "      <td>85.0</td>\n",
       "      <td>7</td>\n",
       "      <td>0</td>\n",
       "      <td>0</td>\n",
       "      <td>0</td>\n",
       "    </tr>\n",
       "    <tr>\n",
       "      <th>2</th>\n",
       "      <td>25</td>\n",
       "      <td>457</td>\n",
       "      <td>471</td>\n",
       "      <td>3</td>\n",
       "      <td>2</td>\n",
       "      <td>0</td>\n",
       "      <td>29771</td>\n",
       "      <td>1905.54</td>\n",
       "      <td>1</td>\n",
       "      <td>25.826343</td>\n",
       "      <td>52.0</td>\n",
       "      <td>13</td>\n",
       "      <td>1</td>\n",
       "      <td>1</td>\n",
       "      <td>0</td>\n",
       "    </tr>\n",
       "    <tr>\n",
       "      <th>3</th>\n",
       "      <td>25</td>\n",
       "      <td>458</td>\n",
       "      <td>463</td>\n",
       "      <td>2</td>\n",
       "      <td>0</td>\n",
       "      <td>1</td>\n",
       "      <td>517</td>\n",
       "      <td>2077.95</td>\n",
       "      <td>0</td>\n",
       "      <td>64.490309</td>\n",
       "      <td>85.0</td>\n",
       "      <td>9</td>\n",
       "      <td>0</td>\n",
       "      <td>0</td>\n",
       "      <td>0</td>\n",
       "    </tr>\n",
       "    <tr>\n",
       "      <th>4</th>\n",
       "      <td>25</td>\n",
       "      <td>458</td>\n",
       "      <td>463</td>\n",
       "      <td>2</td>\n",
       "      <td>0</td>\n",
       "      <td>1</td>\n",
       "      <td>40744</td>\n",
       "      <td>6822.10</td>\n",
       "      <td>0</td>\n",
       "      <td>24.959968</td>\n",
       "      <td>52.0</td>\n",
       "      <td>11</td>\n",
       "      <td>1</td>\n",
       "      <td>2</td>\n",
       "      <td>0</td>\n",
       "    </tr>\n",
       "  </tbody>\n",
       "</table>\n",
       "</div>"
      ],
      "text/plain": [
       "   search_date  arrival  departure  num_adults  num_children  search_id  \\\n",
       "0           25      457        471           3             2          0   \n",
       "1           25      457        471           3             2          0   \n",
       "2           25      457        471           3             2          0   \n",
       "3           25      458        463           2             0          1   \n",
       "4           25      458        463           2             0          1   \n",
       "\n",
       "   hotel_id  hotel_price  is_promo  hotel_feature_1  hotel_feature_2  \\\n",
       "0       517      1724.38         0        64.490309             85.0   \n",
       "1       517      1724.38         0        64.490309             85.0   \n",
       "2     29771      1905.54         1        25.826343             52.0   \n",
       "3       517      2077.95         0        64.490309             85.0   \n",
       "4     40744      6822.10         0        24.959968             52.0   \n",
       "\n",
       "   hotel_feature_3  hotel_feature_4  hotel_feature_5  booked  \n",
       "0                7                0                0       0  \n",
       "1                7                0                0       0  \n",
       "2               13                1                1       0  \n",
       "3                9                0                0       0  \n",
       "4               11                1                2       0  "
      ]
     },
     "execution_count": 13,
     "metadata": {},
     "output_type": "execute_result"
    }
   ],
   "source": [
    "df.head()"
   ]
  },
  {
   "cell_type": "code",
   "execution_count": 14,
   "metadata": {
    "collapsed": false
   },
   "outputs": [
    {
     "name": "stdout",
     "output_type": "stream",
     "text": [
      "Number of missing hotel_feature_1 entries: 0\n",
      "Number of missing hotel_feature_2 entries: 0\n"
     ]
    }
   ],
   "source": [
    "print \"Number of missing hotel_feature_1 entries: \" + str(len(df[np.isnan(df['hotel_feature_1'])]))\n",
    "print \"Number of missing hotel_feature_2 entries: \" + str(len(df[np.isnan(df['hotel_feature_2'])]))"
   ]
  },
  {
   "cell_type": "markdown",
   "metadata": {},
   "source": [
    "*** Continue Cleaning By Checking The Range of the Numbers and Stating Assumptions e.g.\n",
    "- if the arrival date reads 457 then that is a book for next year"
   ]
  },
  {
   "cell_type": "markdown",
   "metadata": {},
   "source": [
    "# New Columns"
   ]
  },
  {
   "cell_type": "code",
   "execution_count": 15,
   "metadata": {
    "collapsed": true
   },
   "outputs": [],
   "source": [
    "df['stay_length'] = df['departure'] - df['arrival']"
   ]
  },
  {
   "cell_type": "code",
   "execution_count": 16,
   "metadata": {
    "collapsed": false
   },
   "outputs": [],
   "source": [
    "df['price_per_night'] = df['hotel_price'] / df['stay_length']"
   ]
  },
  {
   "cell_type": "code",
   "execution_count": 17,
   "metadata": {
    "collapsed": false
   },
   "outputs": [
    {
     "data": {
      "text/html": [
       "<div>\n",
       "<table border=\"1\" class=\"dataframe\">\n",
       "  <thead>\n",
       "    <tr style=\"text-align: right;\">\n",
       "      <th></th>\n",
       "      <th>search_date</th>\n",
       "      <th>arrival</th>\n",
       "      <th>departure</th>\n",
       "      <th>num_adults</th>\n",
       "      <th>num_children</th>\n",
       "      <th>search_id</th>\n",
       "      <th>hotel_id</th>\n",
       "      <th>hotel_price</th>\n",
       "      <th>is_promo</th>\n",
       "      <th>hotel_feature_1</th>\n",
       "      <th>hotel_feature_2</th>\n",
       "      <th>hotel_feature_3</th>\n",
       "      <th>hotel_feature_4</th>\n",
       "      <th>hotel_feature_5</th>\n",
       "      <th>booked</th>\n",
       "      <th>stay_length</th>\n",
       "      <th>price_per_night</th>\n",
       "    </tr>\n",
       "  </thead>\n",
       "  <tbody>\n",
       "    <tr>\n",
       "      <th>0</th>\n",
       "      <td>25</td>\n",
       "      <td>457</td>\n",
       "      <td>471</td>\n",
       "      <td>3</td>\n",
       "      <td>2</td>\n",
       "      <td>0</td>\n",
       "      <td>517</td>\n",
       "      <td>1724.38</td>\n",
       "      <td>0</td>\n",
       "      <td>64.490309</td>\n",
       "      <td>85.0</td>\n",
       "      <td>7</td>\n",
       "      <td>0</td>\n",
       "      <td>0</td>\n",
       "      <td>0</td>\n",
       "      <td>14</td>\n",
       "      <td>123.17</td>\n",
       "    </tr>\n",
       "    <tr>\n",
       "      <th>1</th>\n",
       "      <td>25</td>\n",
       "      <td>457</td>\n",
       "      <td>471</td>\n",
       "      <td>3</td>\n",
       "      <td>2</td>\n",
       "      <td>0</td>\n",
       "      <td>517</td>\n",
       "      <td>1724.38</td>\n",
       "      <td>0</td>\n",
       "      <td>64.490309</td>\n",
       "      <td>85.0</td>\n",
       "      <td>7</td>\n",
       "      <td>0</td>\n",
       "      <td>0</td>\n",
       "      <td>0</td>\n",
       "      <td>14</td>\n",
       "      <td>123.17</td>\n",
       "    </tr>\n",
       "    <tr>\n",
       "      <th>2</th>\n",
       "      <td>25</td>\n",
       "      <td>457</td>\n",
       "      <td>471</td>\n",
       "      <td>3</td>\n",
       "      <td>2</td>\n",
       "      <td>0</td>\n",
       "      <td>29771</td>\n",
       "      <td>1905.54</td>\n",
       "      <td>1</td>\n",
       "      <td>25.826343</td>\n",
       "      <td>52.0</td>\n",
       "      <td>13</td>\n",
       "      <td>1</td>\n",
       "      <td>1</td>\n",
       "      <td>0</td>\n",
       "      <td>14</td>\n",
       "      <td>136.11</td>\n",
       "    </tr>\n",
       "    <tr>\n",
       "      <th>3</th>\n",
       "      <td>25</td>\n",
       "      <td>458</td>\n",
       "      <td>463</td>\n",
       "      <td>2</td>\n",
       "      <td>0</td>\n",
       "      <td>1</td>\n",
       "      <td>517</td>\n",
       "      <td>2077.95</td>\n",
       "      <td>0</td>\n",
       "      <td>64.490309</td>\n",
       "      <td>85.0</td>\n",
       "      <td>9</td>\n",
       "      <td>0</td>\n",
       "      <td>0</td>\n",
       "      <td>0</td>\n",
       "      <td>5</td>\n",
       "      <td>415.59</td>\n",
       "    </tr>\n",
       "    <tr>\n",
       "      <th>4</th>\n",
       "      <td>25</td>\n",
       "      <td>458</td>\n",
       "      <td>463</td>\n",
       "      <td>2</td>\n",
       "      <td>0</td>\n",
       "      <td>1</td>\n",
       "      <td>40744</td>\n",
       "      <td>6822.10</td>\n",
       "      <td>0</td>\n",
       "      <td>24.959968</td>\n",
       "      <td>52.0</td>\n",
       "      <td>11</td>\n",
       "      <td>1</td>\n",
       "      <td>2</td>\n",
       "      <td>0</td>\n",
       "      <td>5</td>\n",
       "      <td>1364.42</td>\n",
       "    </tr>\n",
       "  </tbody>\n",
       "</table>\n",
       "</div>"
      ],
      "text/plain": [
       "   search_date  arrival  departure  num_adults  num_children  search_id  \\\n",
       "0           25      457        471           3             2          0   \n",
       "1           25      457        471           3             2          0   \n",
       "2           25      457        471           3             2          0   \n",
       "3           25      458        463           2             0          1   \n",
       "4           25      458        463           2             0          1   \n",
       "\n",
       "   hotel_id  hotel_price  is_promo  hotel_feature_1  hotel_feature_2  \\\n",
       "0       517      1724.38         0        64.490309             85.0   \n",
       "1       517      1724.38         0        64.490309             85.0   \n",
       "2     29771      1905.54         1        25.826343             52.0   \n",
       "3       517      2077.95         0        64.490309             85.0   \n",
       "4     40744      6822.10         0        24.959968             52.0   \n",
       "\n",
       "   hotel_feature_3  hotel_feature_4  hotel_feature_5  booked  stay_length  \\\n",
       "0                7                0                0       0           14   \n",
       "1                7                0                0       0           14   \n",
       "2               13                1                1       0           14   \n",
       "3                9                0                0       0            5   \n",
       "4               11                1                2       0            5   \n",
       "\n",
       "   price_per_night  \n",
       "0           123.17  \n",
       "1           123.17  \n",
       "2           136.11  \n",
       "3           415.59  \n",
       "4          1364.42  "
      ]
     },
     "execution_count": 17,
     "metadata": {},
     "output_type": "execute_result"
    }
   ],
   "source": [
    "df.round({'price_per_night': 2}).head()"
   ]
  },
  {
   "cell_type": "markdown",
   "metadata": {
    "collapsed": true
   },
   "source": [
    "# Plotting The Data"
   ]
  },
  {
   "cell_type": "code",
   "execution_count": 35,
   "metadata": {
    "collapsed": false
   },
   "outputs": [],
   "source": [
    "import seaborn as sb\n",
    "%matplotlib inline"
   ]
  },
  {
   "cell_type": "markdown",
   "metadata": {},
   "source": [
    "#### Arrival and Departure Dates"
   ]
  },
  {
   "cell_type": "code",
   "execution_count": 44,
   "metadata": {
    "collapsed": false
   },
   "outputs": [
    {
     "data": {
      "text/plain": [
       "<matplotlib.axes._subplots.AxesSubplot at 0x1d01c8450>"
      ]
     },
     "execution_count": 44,
     "metadata": {},
     "output_type": "execute_result"
    },
    {
     "data": {
      "image/png": "[encoded data removed]",
      "text/plain": [
       "<matplotlib.figure.Figure at 0x1cfd99f50>"
      ]
     },
     "metadata": {},
     "output_type": "display_data"
    }
   ],
   "source": [
    "fig, ax = plt.subplots()\n",
    "sb.distplot(df['arrival'], ax=ax, color='r')\n",
    "sb.distplot(df['departure'], ax=ax, color='b')"
   ]
  },
  {
   "cell_type": "markdown",
   "metadata": {},
   "source": [
    "#### Search Dates"
   ]
  },
  {
   "cell_type": "code",
   "execution_count": 52,
   "metadata": {
    "collapsed": false
   },
   "outputs": [
    {
     "data": {
      "text/plain": [
       "<matplotlib.axes._subplots.AxesSubplot at 0x1d29713d0>"
      ]
     },
     "execution_count": 52,
     "metadata": {},
     "output_type": "execute_result"
    },
    {
     "data": {
      "image/png": "[encoded data removed]",
      "text/plain": [
       "<matplotlib.figure.Figure at 0x1d1ab7810>"
      ]
     },
     "metadata": {},
     "output_type": "display_data"
    }
   ],
   "source": [
    "plt.xlim(0, 30)\n",
    "plt.xticks(np.arange(0, 31, 1.0))\n",
    "sb.distplot(df['search_date'])"
   ]
  },
  {
   "cell_type": "markdown",
   "metadata": {},
   "source": [
    "#### Number of Adults and Children"
   ]
  },
  {
   "cell_type": "code",
   "execution_count": 53,
   "metadata": {
    "collapsed": false
   },
   "outputs": [
    {
     "data": {
      "text/plain": [
       "<matplotlib.axes._subplots.AxesSubplot at 0x1d2971b10>"
      ]
     },
     "execution_count": 53,
     "metadata": {},
     "output_type": "execute_result"
    },
    {
     "data": {
      "image/png": "[encoded data removed]",
      "text/plain": [
       "<matplotlib.figure.Figure at 0x1d0f3b410>"
      ]
     },
     "metadata": {},
     "output_type": "display_data"
    }
   ],
   "source": [
    "sb.distplot(df['num_adults'], color='r')"
   ]
  },
  {
   "cell_type": "code",
   "execution_count": 54,
   "metadata": {
    "collapsed": false
   },
   "outputs": [
    {
     "data": {
      "text/plain": [
       "<matplotlib.axes._subplots.AxesSubplot at 0x1d310fb10>"
      ]
     },
     "execution_count": 54,
     "metadata": {},
     "output_type": "execute_result"
    },
    {
     "data": {
      "image/png": "[encoded data removed]",
      "text/plain": [
       "<matplotlib.figure.Figure at 0x1d1f9f5d0>"
      ]
     },
     "metadata": {},
     "output_type": "display_data"
    }
   ],
   "source": [
    "sb.distplot(df['num_children'], color='r')"
   ]
  },
  {
   "cell_type": "markdown",
   "metadata": {},
   "source": [
    "#### Number of Hotels"
   ]
  },
  {
   "cell_type": "code",
   "execution_count": 55,
   "metadata": {
    "collapsed": false
   },
   "outputs": [
    {
     "name": "stdout",
     "output_type": "stream",
     "text": [
      "The number of hotels in our dataset is 343\n"
     ]
    }
   ],
   "source": [
    "print \"The number of hotels in our dataset is \" + str(len(df['hotel_id'].unique()))"
   ]
  },
  {
   "cell_type": "markdown",
   "metadata": {},
   "source": [
    "#### Ratio of Promo"
   ]
  },
  {
   "cell_type": "code",
   "execution_count": 59,
   "metadata": {
    "collapsed": false
   },
   "outputs": [
    {
     "name": "stdout",
     "output_type": "stream",
     "text": [
      "The ratio of on promo of the dataset is 0.51\n"
     ]
    }
   ],
   "source": [
    "num_promo = len(df[df['is_promo'] == 1])\n",
    "total_searches = len(df)\n",
    "print \"The ratio of on promo of the dataset is \" + str(round((num_promo / float(total_searches)), 2))"
   ]
  },
  {
   "cell_type": "markdown",
   "metadata": {},
   "source": [
    "### Hotel Features"
   ]
  },
  {
   "cell_type": "code",
   "execution_count": 68,
   "metadata": {
    "collapsed": false
   },
   "outputs": [
    {
     "data": {
      "text/plain": [
       "<matplotlib.axes._subplots.AxesSubplot at 0x1d5150ad0>"
      ]
     },
     "execution_count": 68,
     "metadata": {},
     "output_type": "execute_result"
    },
    {
     "data": {
      "image/png": "[encoded data removed]",
      "text/plain": [
       "<matplotlib.figure.Figure at 0x1d515b1d0>"
      ]
     },
     "metadata": {},
     "output_type": "display_data"
    }
   ],
   "source": [
    "sb.distplot(df['hotel_feature_2'])"
   ]
  },
  {
   "cell_type": "code",
   "execution_count": 62,
   "metadata": {
    "collapsed": false
   },
   "outputs": [
    {
     "data": {
      "text/plain": [
       "<matplotlib.axes._subplots.AxesSubplot at 0x1d3855110>"
      ]
     },
     "execution_count": 62,
     "metadata": {},
     "output_type": "execute_result"
    },
    {
     "data": {
      "image/png": "[encoded data removed]",
      "text/plain": [
       "<matplotlib.figure.Figure at 0x1d37ba710>"
      ]
     },
     "metadata": {},
     "output_type": "display_data"
    }
   ],
   "source": [
    "sb.distplot(df['hotel_feature_3'])"
   ]
  },
  {
   "cell_type": "code",
   "execution_count": 65,
   "metadata": {
    "collapsed": false
   },
   "outputs": [
    {
     "data": {
      "text/plain": [
       "<matplotlib.axes._subplots.AxesSubplot at 0x1d4294210>"
      ]
     },
     "execution_count": 65,
     "metadata": {},
     "output_type": "execute_result"
    },
    {
     "data": {
      "image/png": "[encoded data removed]",
      "text/plain": [
       "<matplotlib.figure.Figure at 0x1d41a24d0>"
      ]
     },
     "metadata": {},
     "output_type": "display_data"
    }
   ],
   "source": [
    "sb.countplot(x=\"hotel_feature_4\", data=df)"
   ]
  },
  {
   "cell_type": "code",
   "execution_count": 66,
   "metadata": {
    "collapsed": false
   },
   "outputs": [
    {
     "data": {
      "text/plain": [
       "<matplotlib.axes._subplots.AxesSubplot at 0x1d473a610>"
      ]
     },
     "execution_count": 66,
     "metadata": {},
     "output_type": "execute_result"
    },
    {
     "data": {
      "image/png": "[encoded data removed]",
      "text/plain": [
       "<matplotlib.figure.Figure at 0x1d33da150>"
      ]
     },
     "metadata": {},
     "output_type": "display_data"
    }
   ],
   "source": [
    "sb.countplot(x=\"hotel_feature_5\", data=df)"
   ]
  },
  {
   "cell_type": "markdown",
   "metadata": {},
   "source": [
    "# Correlations Between Columns"
   ]
  },
  {
   "cell_type": "markdown",
   "metadata": {},
   "source": [
    "### Correlation Matrix"
   ]
  },
  {
   "cell_type": "code",
   "execution_count": 72,
   "metadata": {
    "collapsed": false
   },
   "outputs": [
    {
     "data": {
      "text/plain": [
       "<matplotlib.image.AxesImage at 0x1d6710850>"
      ]
     },
     "execution_count": 72,
     "metadata": {},
     "output_type": "execute_result"
    },
    {
     "data": {
      "image/png": "[encoded data removed]",
      "text/plain": [
       "<matplotlib.figure.Figure at 0x1d55387d0>"
      ]
     },
     "metadata": {},
     "output_type": "display_data"
    }
   ],
   "source": [
    "plt.matshow(df.corr(), interpolation='none', vmin=0, vmax=1)"
   ]
  },
  {
   "cell_type": "markdown",
   "metadata": {},
   "source": [
    "### Correlations I Will Explore"
   ]
  },
  {
   "cell_type": "markdown",
   "metadata": {},
   "source": [
    "I think the following correlations would be interesting to explore:\n",
    "- price_per_night -> hotel_feature_1\n",
    "- price_per_night -> hotel_feature_2\n",
    "- price_per_night -> hotel_feature_3\n",
    "- price_per_night -> hotel_feature_4\n",
    "- price_per_night -> hotel_feature_5\n",
    "- number_of_searches -> booked ** Not Done Yet **\n",
    "- is_promo -> booked ** Not Done Yet **\n",
    "- price_per_night -> booked ** Not Done Yet **\n",
    "- number_children -> hotel_feature_1\n",
    "- number_children -> hotel_feature_2\n",
    "- number_children -> hotel_feature_3\n",
    "- number_children -> hotel_feature_4\n",
    "- number_children -> hotel_feature_5\n",
    "- (arrival-search_date) -> price_per_night ** Not Done Yet **\n",
    "- (arrival-seach_date) -> number_of children ** Not Done Yet **"
   ]
  },
  {
   "cell_type": "code",
   "execution_count": 1,
   "metadata": {
    "collapsed": true
   },
   "outputs": [],
   "source": [
    "corr_pairs = [['price_per_night', 'hotel_feature_1'], \n",
    "              ['price_per_night', 'hotel_feature_2'], \n",
    "              ['price_per_night', 'hotel_feature_3'], \n",
    "              ['price_per_night', 'hotel_feature_4'],\n",
    "              ['price_per_night', 'hotel_feature_5'],\n",
    "              ['num_children', 'hotel_feature_1'],\n",
    "              ['num_children', 'hotel_feature_2'],\n",
    "              ['num_children', 'hotel_feature_3'],\n",
    "              ['num_children', 'hotel_feature_4'],\n",
    "              ['num_children', 'hotel_feature_5'],\n",
    "              ['num_adults', 'hotel_feature_1'],\n",
    "              ['num_adults', 'hotel_feature_2'],\n",
    "              ['num_adults', 'hotel_feature_3'],\n",
    "              ['num_adults', 'hotel_feature_4'],\n",
    "              ['num_adults', 'hotel_feature_5'],\n",
    "             ]"
   ]
  },
  {
   "cell_type": "code",
   "execution_count": 2,
   "metadata": {
    "collapsed": false
   },
   "outputs": [
    {
     "name": "stdout",
     "output_type": "stream",
     "text": [
      "The correlation for price_per_night & hotel_feature_1 is: \n"
     ]
    },
    {
     "ename": "NameError",
     "evalue": "name 'pearsonr' is not defined",
     "output_type": "error",
     "traceback": [
      "\u001b[0;31m---------------------------------------------------------------------------\u001b[0m",
      "\u001b[0;31mNameError\u001b[0m                                 Traceback (most recent call last)",
      "\u001b[0;32m<ipython-input-2-490716aa9fbb>\u001b[0m in \u001b[0;36m<module>\u001b[0;34m()\u001b[0m\n\u001b[1;32m      1\u001b[0m \u001b[0;32mfor\u001b[0m \u001b[0mpair\u001b[0m \u001b[0;32min\u001b[0m \u001b[0mcorr_pairs\u001b[0m\u001b[0;34m:\u001b[0m\u001b[0;34m\u001b[0m\u001b[0m\n\u001b[1;32m      2\u001b[0m     \u001b[0;32mprint\u001b[0m \u001b[0;34m\"The correlation for \"\u001b[0m \u001b[0;34m+\u001b[0m \u001b[0mpair\u001b[0m\u001b[0;34m[\u001b[0m\u001b[0;36m0\u001b[0m\u001b[0;34m]\u001b[0m \u001b[0;34m+\u001b[0m \u001b[0;34m\" & \"\u001b[0m \u001b[0;34m+\u001b[0m \u001b[0mpair\u001b[0m\u001b[0;34m[\u001b[0m\u001b[0;36m1\u001b[0m\u001b[0;34m]\u001b[0m \u001b[0;34m+\u001b[0m \u001b[0;34m\" is: \"\u001b[0m\u001b[0;34m\u001b[0m\u001b[0m\n\u001b[0;32m----> 3\u001b[0;31m     \u001b[0;32mprint\u001b[0m \u001b[0mstr\u001b[0m\u001b[0;34m(\u001b[0m\u001b[0mpearsonr\u001b[0m\u001b[0;34m(\u001b[0m\u001b[0mdf\u001b[0m\u001b[0;34m[\u001b[0m\u001b[0mpair\u001b[0m\u001b[0;34m[\u001b[0m\u001b[0;36m0\u001b[0m\u001b[0;34m]\u001b[0m\u001b[0;34m]\u001b[0m\u001b[0;34m,\u001b[0m \u001b[0mdf\u001b[0m\u001b[0;34m[\u001b[0m\u001b[0mpair\u001b[0m\u001b[0;34m[\u001b[0m\u001b[0;36m1\u001b[0m\u001b[0;34m]\u001b[0m\u001b[0;34m]\u001b[0m\u001b[0;34m)\u001b[0m\u001b[0;34m)\u001b[0m\u001b[0;34m\u001b[0m\u001b[0m\n\u001b[0m\u001b[1;32m      4\u001b[0m     \u001b[0;32mprint\u001b[0m \u001b[0;34m\"\"\u001b[0m\u001b[0;34m\u001b[0m\u001b[0m\n",
      "\u001b[0;31mNameError\u001b[0m: name 'pearsonr' is not defined"
     ]
    }
   ],
   "source": [
    "for pair in corr_pairs:\n",
    "    print \"The correlation for \" + pair[0] + \" & \" + pair[1] + \" is: \"\n",
    "    print str(pearsonr(df[pair[0]], df[pair[1]]))\n",
    "    print \"\""
   ]
  },
  {
   "cell_type": "markdown",
   "metadata": {},
   "source": [
    "### Discussing These Correlations (or lack of)"
   ]
  },
  {
   "cell_type": "code",
   "execution_count": null,
   "metadata": {
    "collapsed": true
   },
   "outputs": [],
   "source": []
  }
 ],
 "metadata": {
  "kernelspec": {
   "display_name": "Python 2",
   "language": "python",
   "name": "python2"
  },
  "language_info": {
   "codemirror_mode": {
    "name": "ipython",
    "version": 2
   },
   "file_extension": ".py",
   "mimetype": "text/x-python",
   "name": "python",
   "nbconvert_exporter": "python",
   "pygments_lexer": "ipython2",
   "version": "2.7.11"
  }
 },
 "nbformat": 4,
 "nbformat_minor": 0
}
