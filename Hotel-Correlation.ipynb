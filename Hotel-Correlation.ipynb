{
 "cells": [
  {
   "cell_type": "code",
   "execution_count": 2,
   "metadata": {
    "collapsed": true
   },
   "outputs": [],
   "source": [
    "import pandas as pd\n",
    "import numpy as np\n",
    "\n",
    "%matplotlib notebook\n",
    "\n",
    "import matplotlib.pyplot as plt\n",
    "from scipy.stats import pearsonr"
   ]
  },
  {
   "cell_type": "code",
   "execution_count": 6,
   "metadata": {
    "collapsed": true
   },
   "outputs": [],
   "source": [
    "df = pd.read_csv('case_study_data.csv')"
   ]
  },
  {
   "cell_type": "code",
   "execution_count": 7,
   "metadata": {
    "collapsed": false
   },
   "outputs": [
    {
     "data": {
      "text/html": [
       "<div>\n",
       "<table border=\"1\" class=\"dataframe\">\n",
       "  <thead>\n",
       "    <tr style=\"text-align: right;\">\n",
       "      <th></th>\n",
       "      <th>search_date</th>\n",
       "      <th>arrival</th>\n",
       "      <th>departure</th>\n",
       "      <th>num_adults</th>\n",
       "      <th>num_children</th>\n",
       "      <th>search_id</th>\n",
       "      <th>hotel_id</th>\n",
       "      <th>hotel_price</th>\n",
       "      <th>is_promo</th>\n",
       "      <th>hotel_feature_1</th>\n",
       "      <th>hotel_feature_2</th>\n",
       "      <th>hotel_feature_3</th>\n",
       "      <th>hotel_feature_4</th>\n",
       "      <th>hotel_feature_5</th>\n",
       "      <th>booked</th>\n",
       "    </tr>\n",
       "  </thead>\n",
       "  <tbody>\n",
       "    <tr>\n",
       "      <th>0</th>\n",
       "      <td>25</td>\n",
       "      <td>457</td>\n",
       "      <td>471</td>\n",
       "      <td>3</td>\n",
       "      <td>2</td>\n",
       "      <td>0</td>\n",
       "      <td>517</td>\n",
       "      <td>1724.38</td>\n",
       "      <td>0</td>\n",
       "      <td>64.490309</td>\n",
       "      <td>85.0</td>\n",
       "      <td>7</td>\n",
       "      <td>0</td>\n",
       "      <td>0</td>\n",
       "      <td>0</td>\n",
       "    </tr>\n",
       "    <tr>\n",
       "      <th>1</th>\n",
       "      <td>25</td>\n",
       "      <td>457</td>\n",
       "      <td>471</td>\n",
       "      <td>3</td>\n",
       "      <td>2</td>\n",
       "      <td>0</td>\n",
       "      <td>517</td>\n",
       "      <td>1724.38</td>\n",
       "      <td>0</td>\n",
       "      <td>64.490309</td>\n",
       "      <td>85.0</td>\n",
       "      <td>7</td>\n",
       "      <td>0</td>\n",
       "      <td>0</td>\n",
       "      <td>0</td>\n",
       "    </tr>\n",
       "    <tr>\n",
       "      <th>2</th>\n",
       "      <td>25</td>\n",
       "      <td>457</td>\n",
       "      <td>471</td>\n",
       "      <td>3</td>\n",
       "      <td>2</td>\n",
       "      <td>0</td>\n",
       "      <td>29771</td>\n",
       "      <td>1905.54</td>\n",
       "      <td>1</td>\n",
       "      <td>25.826343</td>\n",
       "      <td>52.0</td>\n",
       "      <td>13</td>\n",
       "      <td>1</td>\n",
       "      <td>1</td>\n",
       "      <td>0</td>\n",
       "    </tr>\n",
       "    <tr>\n",
       "      <th>3</th>\n",
       "      <td>25</td>\n",
       "      <td>458</td>\n",
       "      <td>463</td>\n",
       "      <td>2</td>\n",
       "      <td>0</td>\n",
       "      <td>1</td>\n",
       "      <td>517</td>\n",
       "      <td>2077.95</td>\n",
       "      <td>0</td>\n",
       "      <td>64.490309</td>\n",
       "      <td>85.0</td>\n",
       "      <td>9</td>\n",
       "      <td>0</td>\n",
       "      <td>0</td>\n",
       "      <td>0</td>\n",
       "    </tr>\n",
       "    <tr>\n",
       "      <th>4</th>\n",
       "      <td>25</td>\n",
       "      <td>458</td>\n",
       "      <td>463</td>\n",
       "      <td>2</td>\n",
       "      <td>0</td>\n",
       "      <td>1</td>\n",
       "      <td>40744</td>\n",
       "      <td>6822.10</td>\n",
       "      <td>0</td>\n",
       "      <td>24.959968</td>\n",
       "      <td>52.0</td>\n",
       "      <td>11</td>\n",
       "      <td>1</td>\n",
       "      <td>2</td>\n",
       "      <td>0</td>\n",
       "    </tr>\n",
       "  </tbody>\n",
       "</table>\n",
       "</div>"
      ],
      "text/plain": [
       "   search_date  arrival  departure  num_adults  num_children  search_id  \\\n",
       "0           25      457        471           3             2          0   \n",
       "1           25      457        471           3             2          0   \n",
       "2           25      457        471           3             2          0   \n",
       "3           25      458        463           2             0          1   \n",
       "4           25      458        463           2             0          1   \n",
       "\n",
       "   hotel_id  hotel_price  is_promo  hotel_feature_1  hotel_feature_2  \\\n",
       "0       517      1724.38         0        64.490309             85.0   \n",
       "1       517      1724.38         0        64.490309             85.0   \n",
       "2     29771      1905.54         1        25.826343             52.0   \n",
       "3       517      2077.95         0        64.490309             85.0   \n",
       "4     40744      6822.10         0        24.959968             52.0   \n",
       "\n",
       "   hotel_feature_3  hotel_feature_4  hotel_feature_5  booked  \n",
       "0                7                0                0       0  \n",
       "1                7                0                0       0  \n",
       "2               13                1                1       0  \n",
       "3                9                0                0       0  \n",
       "4               11                1                2       0  "
      ]
     },
     "execution_count": 7,
     "metadata": {},
     "output_type": "execute_result"
    }
   ],
   "source": [
    "df.head()"
   ]
  },
  {
   "cell_type": "code",
   "execution_count": 8,
   "metadata": {
    "collapsed": false
   },
   "outputs": [
    {
     "data": {
      "text/plain": [
       "['search_date',\n",
       " 'arrival',\n",
       " 'departure',\n",
       " 'num_adults',\n",
       " 'num_children',\n",
       " 'search_id',\n",
       " 'hotel_id',\n",
       " 'hotel_price',\n",
       " 'is_promo',\n",
       " 'hotel_feature_1',\n",
       " 'hotel_feature_2',\n",
       " 'hotel_feature_3',\n",
       " 'hotel_feature_4',\n",
       " 'hotel_feature_5',\n",
       " 'booked']"
      ]
     },
     "execution_count": 8,
     "metadata": {},
     "output_type": "execute_result"
    }
   ],
   "source": [
    "labels = list(df.columns.values)\n",
    "labels"
   ]
  },
  {
   "cell_type": "code",
   "execution_count": 11,
   "metadata": {
    "collapsed": false
   },
   "outputs": [
    {
     "data": {
      "application/javascript": [
       "/* Put everything inside the global mpl namespace */\n",
       "window.mpl = {};\n",
       "\n",
       "mpl.get_websocket_type = function() {\n",
       "    if (typeof(WebSocket) !== 'undefined') {\n",
       "        return WebSocket;\n",
       "    } else if (typeof(MozWebSocket) !== 'undefined') {\n",
       "        return MozWebSocket;\n",
       "    } else {\n",
       "        alert('Your browser does not have WebSocket support.' +\n",
       "              'Please try Chrome, Safari or Firefox ≥ 6. ' +\n",
       "              'Firefox 4 and 5 are also supported but you ' +\n",
       "              'have to enable WebSockets in about:config.');\n",
       "    };\n",
       "}\n",
       "\n",
       "mpl.figure = function(figure_id, websocket, ondownload, parent_element) {\n",
       "    this.id = figure_id;\n",
       "\n",
       "    this.ws = websocket;\n",
       "\n",
       "    this.supports_binary = (this.ws.binaryType != undefined);\n",
       "\n",
       "    if (!this.supports_binary) {\n",
       "        var warnings = document.getElementById(\"mpl-warnings\");\n",
       "        if (warnings) {\n",
       "            warnings.style.display = 'block';\n",
       "            warnings.textContent = (\n",
       "                \"This browser does not support binary websocket messages. \" +\n",
       "                    \"Performance may be slow.\");\n",
       "        }\n",
       "    }\n",
       "\n",
       "    this.imageObj = new Image();\n",
       "\n",
       "    this.context = undefined;\n",
       "    this.message = undefined;\n",
       "    this.canvas = undefined;\n",
       "    this.rubberband_canvas = undefined;\n",
       "    this.rubberband_context = undefined;\n",
       "    this.format_dropdown = undefined;\n",
       "\n",
       "    this.image_mode = 'full';\n",
       "\n",
       "    this.root = $('<div/>');\n",
       "    this._root_extra_style(this.root)\n",
       "    this.root.attr('style', 'display: inline-block');\n",
       "\n",
       "    $(parent_element).append(this.root);\n",
       "\n",
       "    this._init_header(this);\n",
       "    this._init_canvas(this);\n",
       "    this._init_toolbar(this);\n",
       "\n",
       "    var fig = this;\n",
       "\n",
       "    this.waiting = false;\n",
       "\n",
       "    this.ws.onopen =  function () {\n",
       "            fig.send_message(\"supports_binary\", {value: fig.supports_binary});\n",
       "            fig.send_message(\"send_image_mode\", {});\n",
       "            fig.send_message(\"refresh\", {});\n",
       "        }\n",
       "\n",
       "    this.imageObj.onload = function() {\n",
       "            if (fig.image_mode == 'full') {\n",
       "                // Full images could contain transparency (where diff images\n",
       "                // almost always do), so we need to clear the canvas so that\n",
       "                // there is no ghosting.\n",
       "                fig.context.clearRect(0, 0, fig.canvas.width, fig.canvas.height);\n",
       "            }\n",
       "            fig.context.drawImage(fig.imageObj, 0, 0);\n",
       "        };\n",
       "\n",
       "    this.imageObj.onunload = function() {\n",
       "        this.ws.close();\n",
       "    }\n",
       "\n",
       "    this.ws.onmessage = this._make_on_message_function(this);\n",
       "\n",
       "    this.ondownload = ondownload;\n",
       "}\n",
       "\n",
       "mpl.figure.prototype._init_header = function() {\n",
       "    var titlebar = $(\n",
       "        '<div class=\"ui-dialog-titlebar ui-widget-header ui-corner-all ' +\n",
       "        'ui-helper-clearfix\"/>');\n",
       "    var titletext = $(\n",
       "        '<div class=\"ui-dialog-title\" style=\"width: 100%; ' +\n",
       "        'text-align: center; padding: 3px;\"/>');\n",
       "    titlebar.append(titletext)\n",
       "    this.root.append(titlebar);\n",
       "    this.header = titletext[0];\n",
       "}\n",
       "\n",
       "\n",
       "\n",
       "mpl.figure.prototype._canvas_extra_style = function(canvas_div) {\n",
       "\n",
       "}\n",
       "\n",
       "\n",
       "mpl.figure.prototype._root_extra_style = function(canvas_div) {\n",
       "\n",
       "}\n",
       "\n",
       "mpl.figure.prototype._init_canvas = function() {\n",
       "    var fig = this;\n",
       "\n",
       "    var canvas_div = $('<div/>');\n",
       "\n",
       "    canvas_div.attr('style', 'position: relative; clear: both; outline: 0');\n",
       "\n",
       "    function canvas_keyboard_event(event) {\n",
       "        return fig.key_event(event, event['data']);\n",
       "    }\n",
       "\n",
       "    canvas_div.keydown('key_press', canvas_keyboard_event);\n",
       "    canvas_div.keyup('key_release', canvas_keyboard_event);\n",
       "    this.canvas_div = canvas_div\n",
       "    this._canvas_extra_style(canvas_div)\n",
       "    this.root.append(canvas_div);\n",
       "\n",
       "    var canvas = $('<canvas/>');\n",
       "    canvas.addClass('mpl-canvas');\n",
       "    canvas.attr('style', \"left: 0; top: 0; z-index: 0; outline: 0\")\n",
       "\n",
       "    this.canvas = canvas[0];\n",
       "    this.context = canvas[0].getContext(\"2d\");\n",
       "\n",
       "    var rubberband = $('<canvas/>');\n",
       "    rubberband.attr('style', \"position: absolute; left: 0; top: 0; z-index: 1;\")\n",
       "\n",
       "    var pass_mouse_events = true;\n",
       "\n",
       "    canvas_div.resizable({\n",
       "        start: function(event, ui) {\n",
       "            pass_mouse_events = false;\n",
       "        },\n",
       "        resize: function(event, ui) {\n",
       "            fig.request_resize(ui.size.width, ui.size.height);\n",
       "        },\n",
       "        stop: function(event, ui) {\n",
       "            pass_mouse_events = true;\n",
       "            fig.request_resize(ui.size.width, ui.size.height);\n",
       "        },\n",
       "    });\n",
       "\n",
       "    function mouse_event_fn(event) {\n",
       "        if (pass_mouse_events)\n",
       "            return fig.mouse_event(event, event['data']);\n",
       "    }\n",
       "\n",
       "    rubberband.mousedown('button_press', mouse_event_fn);\n",
       "    rubberband.mouseup('button_release', mouse_event_fn);\n",
       "    // Throttle sequential mouse events to 1 every 20ms.\n",
       "    rubberband.mousemove('motion_notify', mouse_event_fn);\n",
       "\n",
       "    rubberband.mouseenter('figure_enter', mouse_event_fn);\n",
       "    rubberband.mouseleave('figure_leave', mouse_event_fn);\n",
       "\n",
       "    canvas_div.on(\"wheel\", function (event) {\n",
       "        event = event.originalEvent;\n",
       "        event['data'] = 'scroll'\n",
       "        if (event.deltaY < 0) {\n",
       "            event.step = 1;\n",
       "        } else {\n",
       "            event.step = -1;\n",
       "        }\n",
       "        mouse_event_fn(event);\n",
       "    });\n",
       "\n",
       "    canvas_div.append(canvas);\n",
       "    canvas_div.append(rubberband);\n",
       "\n",
       "    this.rubberband = rubberband;\n",
       "    this.rubberband_canvas = rubberband[0];\n",
       "    this.rubberband_context = rubberband[0].getContext(\"2d\");\n",
       "    this.rubberband_context.strokeStyle = \"#000000\";\n",
       "\n",
       "    this._resize_canvas = function(width, height) {\n",
       "        // Keep the size of the canvas, canvas container, and rubber band\n",
       "        // canvas in synch.\n",
       "        canvas_div.css('width', width)\n",
       "        canvas_div.css('height', height)\n",
       "\n",
       "        canvas.attr('width', width);\n",
       "        canvas.attr('height', height);\n",
       "\n",
       "        rubberband.attr('width', width);\n",
       "        rubberband.attr('height', height);\n",
       "    }\n",
       "\n",
       "    // Set the figure to an initial 600x600px, this will subsequently be updated\n",
       "    // upon first draw.\n",
       "    this._resize_canvas(600, 600);\n",
       "\n",
       "    // Disable right mouse context menu.\n",
       "    $(this.rubberband_canvas).bind(\"contextmenu\",function(e){\n",
       "        return false;\n",
       "    });\n",
       "\n",
       "    function set_focus () {\n",
       "        canvas.focus();\n",
       "        canvas_div.focus();\n",
       "    }\n",
       "\n",
       "    window.setTimeout(set_focus, 100);\n",
       "}\n",
       "\n",
       "mpl.figure.prototype._init_toolbar = function() {\n",
       "    var fig = this;\n",
       "\n",
       "    var nav_element = $('<div/>')\n",
       "    nav_element.attr('style', 'width: 100%');\n",
       "    this.root.append(nav_element);\n",
       "\n",
       "    // Define a callback function for later on.\n",
       "    function toolbar_event(event) {\n",
       "        return fig.toolbar_button_onclick(event['data']);\n",
       "    }\n",
       "    function toolbar_mouse_event(event) {\n",
       "        return fig.toolbar_button_onmouseover(event['data']);\n",
       "    }\n",
       "\n",
       "    for(var toolbar_ind in mpl.toolbar_items) {\n",
       "        var name = mpl.toolbar_items[toolbar_ind][0];\n",
       "        var tooltip = mpl.toolbar_items[toolbar_ind][1];\n",
       "        var image = mpl.toolbar_items[toolbar_ind][2];\n",
       "        var method_name = mpl.toolbar_items[toolbar_ind][3];\n",
       "\n",
       "        if (!name) {\n",
       "            // put a spacer in here.\n",
       "            continue;\n",
       "        }\n",
       "        var button = $('<button/>');\n",
       "        button.addClass('ui-button ui-widget ui-state-default ui-corner-all ' +\n",
       "                        'ui-button-icon-only');\n",
       "        button.attr('role', 'button');\n",
       "        button.attr('aria-disabled', 'false');\n",
       "        button.click(method_name, toolbar_event);\n",
       "        button.mouseover(tooltip, toolbar_mouse_event);\n",
       "\n",
       "        var icon_img = $('<span/>');\n",
       "        icon_img.addClass('ui-button-icon-primary ui-icon');\n",
       "        icon_img.addClass(image);\n",
       "        icon_img.addClass('ui-corner-all');\n",
       "\n",
       "        var tooltip_span = $('<span/>');\n",
       "        tooltip_span.addClass('ui-button-text');\n",
       "        tooltip_span.html(tooltip);\n",
       "\n",
       "        button.append(icon_img);\n",
       "        button.append(tooltip_span);\n",
       "\n",
       "        nav_element.append(button);\n",
       "    }\n",
       "\n",
       "    var fmt_picker_span = $('<span/>');\n",
       "\n",
       "    var fmt_picker = $('<select/>');\n",
       "    fmt_picker.addClass('mpl-toolbar-option ui-widget ui-widget-content');\n",
       "    fmt_picker_span.append(fmt_picker);\n",
       "    nav_element.append(fmt_picker_span);\n",
       "    this.format_dropdown = fmt_picker[0];\n",
       "\n",
       "    for (var ind in mpl.extensions) {\n",
       "        var fmt = mpl.extensions[ind];\n",
       "        var option = $(\n",
       "            '<option/>', {selected: fmt === mpl.default_extension}).html(fmt);\n",
       "        fmt_picker.append(option)\n",
       "    }\n",
       "\n",
       "    // Add hover states to the ui-buttons\n",
       "    $( \".ui-button\" ).hover(\n",
       "        function() { $(this).addClass(\"ui-state-hover\");},\n",
       "        function() { $(this).removeClass(\"ui-state-hover\");}\n",
       "    );\n",
       "\n",
       "    var status_bar = $('<span class=\"mpl-message\"/>');\n",
       "    nav_element.append(status_bar);\n",
       "    this.message = status_bar[0];\n",
       "}\n",
       "\n",
       "mpl.figure.prototype.request_resize = function(x_pixels, y_pixels) {\n",
       "    // Request matplotlib to resize the figure. Matplotlib will then trigger a resize in the client,\n",
       "    // which will in turn request a refresh of the image.\n",
       "    this.send_message('resize', {'width': x_pixels, 'height': y_pixels});\n",
       "}\n",
       "\n",
       "mpl.figure.prototype.send_message = function(type, properties) {\n",
       "    properties['type'] = type;\n",
       "    properties['figure_id'] = this.id;\n",
       "    this.ws.send(JSON.stringify(properties));\n",
       "}\n",
       "\n",
       "mpl.figure.prototype.send_draw_message = function() {\n",
       "    if (!this.waiting) {\n",
       "        this.waiting = true;\n",
       "        this.ws.send(JSON.stringify({type: \"draw\", figure_id: this.id}));\n",
       "    }\n",
       "}\n",
       "\n",
       "\n",
       "mpl.figure.prototype.handle_save = function(fig, msg) {\n",
       "    var format_dropdown = fig.format_dropdown;\n",
       "    var format = format_dropdown.options[format_dropdown.selectedIndex].value;\n",
       "    fig.ondownload(fig, format);\n",
       "}\n",
       "\n",
       "\n",
       "mpl.figure.prototype.handle_resize = function(fig, msg) {\n",
       "    var size = msg['size'];\n",
       "    if (size[0] != fig.canvas.width || size[1] != fig.canvas.height) {\n",
       "        fig._resize_canvas(size[0], size[1]);\n",
       "        fig.send_message(\"refresh\", {});\n",
       "    };\n",
       "}\n",
       "\n",
       "mpl.figure.prototype.handle_rubberband = function(fig, msg) {\n",
       "    var x0 = msg['x0'];\n",
       "    var y0 = fig.canvas.height - msg['y0'];\n",
       "    var x1 = msg['x1'];\n",
       "    var y1 = fig.canvas.height - msg['y1'];\n",
       "    x0 = Math.floor(x0) + 0.5;\n",
       "    y0 = Math.floor(y0) + 0.5;\n",
       "    x1 = Math.floor(x1) + 0.5;\n",
       "    y1 = Math.floor(y1) + 0.5;\n",
       "    var min_x = Math.min(x0, x1);\n",
       "    var min_y = Math.min(y0, y1);\n",
       "    var width = Math.abs(x1 - x0);\n",
       "    var height = Math.abs(y1 - y0);\n",
       "\n",
       "    fig.rubberband_context.clearRect(\n",
       "        0, 0, fig.canvas.width, fig.canvas.height);\n",
       "\n",
       "    fig.rubberband_context.strokeRect(min_x, min_y, width, height);\n",
       "}\n",
       "\n",
       "mpl.figure.prototype.handle_figure_label = function(fig, msg) {\n",
       "    // Updates the figure title.\n",
       "    fig.header.textContent = msg['label'];\n",
       "}\n",
       "\n",
       "mpl.figure.prototype.handle_cursor = function(fig, msg) {\n",
       "    var cursor = msg['cursor'];\n",
       "    switch(cursor)\n",
       "    {\n",
       "    case 0:\n",
       "        cursor = 'pointer';\n",
       "        break;\n",
       "    case 1:\n",
       "        cursor = 'default';\n",
       "        break;\n",
       "    case 2:\n",
       "        cursor = 'crosshair';\n",
       "        break;\n",
       "    case 3:\n",
       "        cursor = 'move';\n",
       "        break;\n",
       "    }\n",
       "    fig.rubberband_canvas.style.cursor = cursor;\n",
       "}\n",
       "\n",
       "mpl.figure.prototype.handle_message = function(fig, msg) {\n",
       "    fig.message.textContent = msg['message'];\n",
       "}\n",
       "\n",
       "mpl.figure.prototype.handle_draw = function(fig, msg) {\n",
       "    // Request the server to send over a new figure.\n",
       "    fig.send_draw_message();\n",
       "}\n",
       "\n",
       "mpl.figure.prototype.handle_image_mode = function(fig, msg) {\n",
       "    fig.image_mode = msg['mode'];\n",
       "}\n",
       "\n",
       "mpl.figure.prototype.updated_canvas_event = function() {\n",
       "    // Called whenever the canvas gets updated.\n",
       "    this.send_message(\"ack\", {});\n",
       "}\n",
       "\n",
       "// A function to construct a web socket function for onmessage handling.\n",
       "// Called in the figure constructor.\n",
       "mpl.figure.prototype._make_on_message_function = function(fig) {\n",
       "    return function socket_on_message(evt) {\n",
       "        if (evt.data instanceof Blob) {\n",
       "            /* FIXME: We get \"Resource interpreted as Image but\n",
       "             * transferred with MIME type text/plain:\" errors on\n",
       "             * Chrome.  But how to set the MIME type?  It doesn't seem\n",
       "             * to be part of the websocket stream */\n",
       "            evt.data.type = \"image/png\";\n",
       "\n",
       "            /* Free the memory for the previous frames */\n",
       "            if (fig.imageObj.src) {\n",
       "                (window.URL || window.webkitURL).revokeObjectURL(\n",
       "                    fig.imageObj.src);\n",
       "            }\n",
       "\n",
       "            fig.imageObj.src = (window.URL || window.webkitURL).createObjectURL(\n",
       "                evt.data);\n",
       "            fig.updated_canvas_event();\n",
       "            fig.waiting = false;\n",
       "            return;\n",
       "        }\n",
       "        else if (typeof evt.data === 'string' && evt.data.slice(0, 21) == \"data:image/png;base64\") {\n",
       "            fig.imageObj.src = evt.data;\n",
       "            fig.updated_canvas_event();\n",
       "            fig.waiting = false;\n",
       "            return;\n",
       "        }\n",
       "\n",
       "        var msg = JSON.parse(evt.data);\n",
       "        var msg_type = msg['type'];\n",
       "\n",
       "        // Call the  \"handle_{type}\" callback, which takes\n",
       "        // the figure and JSON message as its only arguments.\n",
       "        try {\n",
       "            var callback = fig[\"handle_\" + msg_type];\n",
       "        } catch (e) {\n",
       "            console.log(\"No handler for the '\" + msg_type + \"' message type: \", msg);\n",
       "            return;\n",
       "        }\n",
       "\n",
       "        if (callback) {\n",
       "            try {\n",
       "                // console.log(\"Handling '\" + msg_type + \"' message: \", msg);\n",
       "                callback(fig, msg);\n",
       "            } catch (e) {\n",
       "                console.log(\"Exception inside the 'handler_\" + msg_type + \"' callback:\", e, e.stack, msg);\n",
       "            }\n",
       "        }\n",
       "    };\n",
       "}\n",
       "\n",
       "// from http://stackoverflow.com/questions/1114465/getting-mouse-location-in-canvas\n",
       "mpl.findpos = function(e) {\n",
       "    //this section is from http://www.quirksmode.org/js/events_properties.html\n",
       "    var targ;\n",
       "    if (!e)\n",
       "        e = window.event;\n",
       "    if (e.target)\n",
       "        targ = e.target;\n",
       "    else if (e.srcElement)\n",
       "        targ = e.srcElement;\n",
       "    if (targ.nodeType == 3) // defeat Safari bug\n",
       "        targ = targ.parentNode;\n",
       "\n",
       "    // jQuery normalizes the pageX and pageY\n",
       "    // pageX,Y are the mouse positions relative to the document\n",
       "    // offset() returns the position of the element relative to the document\n",
       "    var x = e.pageX - $(targ).offset().left;\n",
       "    var y = e.pageY - $(targ).offset().top;\n",
       "\n",
       "    return {\"x\": x, \"y\": y};\n",
       "};\n",
       "\n",
       "/*\n",
       " * return a copy of an object with only non-object keys\n",
       " * we need this to avoid circular references\n",
       " * http://stackoverflow.com/a/24161582/3208463\n",
       " */\n",
       "function simpleKeys (original) {\n",
       "  return Object.keys(original).reduce(function (obj, key) {\n",
       "    if (typeof original[key] !== 'object')\n",
       "        obj[key] = original[key]\n",
       "    return obj;\n",
       "  }, {});\n",
       "}\n",
       "\n",
       "mpl.figure.prototype.mouse_event = function(event, name) {\n",
       "    var canvas_pos = mpl.findpos(event)\n",
       "\n",
       "    if (name === 'button_press')\n",
       "    {\n",
       "        this.canvas.focus();\n",
       "        this.canvas_div.focus();\n",
       "    }\n",
       "\n",
       "    var x = canvas_pos.x;\n",
       "    var y = canvas_pos.y;\n",
       "\n",
       "    this.send_message(name, {x: x, y: y, button: event.button,\n",
       "                             step: event.step,\n",
       "                             guiEvent: simpleKeys(event)});\n",
       "\n",
       "    /* This prevents the web browser from automatically changing to\n",
       "     * the text insertion cursor when the button is pressed.  We want\n",
       "     * to control all of the cursor setting manually through the\n",
       "     * 'cursor' event from matplotlib */\n",
       "    event.preventDefault();\n",
       "    return false;\n",
       "}\n",
       "\n",
       "mpl.figure.prototype._key_event_extra = function(event, name) {\n",
       "    // Handle any extra behaviour associated with a key event\n",
       "}\n",
       "\n",
       "mpl.figure.prototype.key_event = function(event, name) {\n",
       "\n",
       "    // Prevent repeat events\n",
       "    if (name == 'key_press')\n",
       "    {\n",
       "        if (event.which === this._key)\n",
       "            return;\n",
       "        else\n",
       "            this._key = event.which;\n",
       "    }\n",
       "    if (name == 'key_release')\n",
       "        this._key = null;\n",
       "\n",
       "    var value = '';\n",
       "    if (event.ctrlKey && event.which != 17)\n",
       "        value += \"ctrl+\";\n",
       "    if (event.altKey && event.which != 18)\n",
       "        value += \"alt+\";\n",
       "    if (event.shiftKey && event.which != 16)\n",
       "        value += \"shift+\";\n",
       "\n",
       "    value += 'k';\n",
       "    value += event.which.toString();\n",
       "\n",
       "    this._key_event_extra(event, name);\n",
       "\n",
       "    this.send_message(name, {key: value,\n",
       "                             guiEvent: simpleKeys(event)});\n",
       "    return false;\n",
       "}\n",
       "\n",
       "mpl.figure.prototype.toolbar_button_onclick = function(name) {\n",
       "    if (name == 'download') {\n",
       "        this.handle_save(this, null);\n",
       "    } else {\n",
       "        this.send_message(\"toolbar_button\", {name: name});\n",
       "    }\n",
       "};\n",
       "\n",
       "mpl.figure.prototype.toolbar_button_onmouseover = function(tooltip) {\n",
       "    this.message.textContent = tooltip;\n",
       "};\n",
       "mpl.toolbar_items = [[\"Home\", \"Reset original view\", \"fa fa-home icon-home\", \"home\"], [\"Back\", \"Back to  previous view\", \"fa fa-arrow-left icon-arrow-left\", \"back\"], [\"Forward\", \"Forward to next view\", \"fa fa-arrow-right icon-arrow-right\", \"forward\"], [\"\", \"\", \"\", \"\"], [\"Pan\", \"Pan axes with left mouse, zoom with right\", \"fa fa-arrows icon-move\", \"pan\"], [\"Zoom\", \"Zoom to rectangle\", \"fa fa-square-o icon-check-empty\", \"zoom\"], [\"\", \"\", \"\", \"\"], [\"Download\", \"Download plot\", \"fa fa-floppy-o icon-save\", \"download\"]];\n",
       "\n",
       "mpl.extensions = [\"eps\", \"jpeg\", \"pdf\", \"png\", \"ps\", \"raw\", \"svg\", \"tif\"];\n",
       "\n",
       "mpl.default_extension = \"png\";var comm_websocket_adapter = function(comm) {\n",
       "    // Create a \"websocket\"-like object which calls the given IPython comm\n",
       "    // object with the appropriate methods. Currently this is a non binary\n",
       "    // socket, so there is still some room for performance tuning.\n",
       "    var ws = {};\n",
       "\n",
       "    ws.close = function() {\n",
       "        comm.close()\n",
       "    };\n",
       "    ws.send = function(m) {\n",
       "        //console.log('sending', m);\n",
       "        comm.send(m);\n",
       "    };\n",
       "    // Register the callback with on_msg.\n",
       "    comm.on_msg(function(msg) {\n",
       "        //console.log('receiving', msg['content']['data'], msg);\n",
       "        // Pass the mpl event to the overriden (by mpl) onmessage function.\n",
       "        ws.onmessage(msg['content']['data'])\n",
       "    });\n",
       "    return ws;\n",
       "}\n",
       "\n",
       "mpl.mpl_figure_comm = function(comm, msg) {\n",
       "    // This is the function which gets called when the mpl process\n",
       "    // starts-up an IPython Comm through the \"matplotlib\" channel.\n",
       "\n",
       "    var id = msg.content.data.id;\n",
       "    // Get hold of the div created by the display call when the Comm\n",
       "    // socket was opened in Python.\n",
       "    var element = $(\"#\" + id);\n",
       "    var ws_proxy = comm_websocket_adapter(comm)\n",
       "\n",
       "    function ondownload(figure, format) {\n",
       "        window.open(figure.imageObj.src);\n",
       "    }\n",
       "\n",
       "    var fig = new mpl.figure(id, ws_proxy,\n",
       "                           ondownload,\n",
       "                           element.get(0));\n",
       "\n",
       "    // Call onopen now - mpl needs it, as it is assuming we've passed it a real\n",
       "    // web socket which is closed, not our websocket->open comm proxy.\n",
       "    ws_proxy.onopen();\n",
       "\n",
       "    fig.parent_element = element.get(0);\n",
       "    fig.cell_info = mpl.find_output_cell(\"<div id='\" + id + \"'></div>\");\n",
       "    if (!fig.cell_info) {\n",
       "        console.error(\"Failed to find cell for figure\", id, fig);\n",
       "        return;\n",
       "    }\n",
       "\n",
       "    var output_index = fig.cell_info[2]\n",
       "    var cell = fig.cell_info[0];\n",
       "\n",
       "};\n",
       "\n",
       "mpl.figure.prototype.handle_close = function(fig, msg) {\n",
       "    fig.root.unbind('remove')\n",
       "\n",
       "    // Update the output cell to use the data from the current canvas.\n",
       "    fig.push_to_output();\n",
       "    var dataURL = fig.canvas.toDataURL();\n",
       "    // Re-enable the keyboard manager in IPython - without this line, in FF,\n",
       "    // the notebook keyboard shortcuts fail.\n",
       "    IPython.keyboard_manager.enable()\n",
       "    $(fig.parent_element).html('<img src=\"' + dataURL + '\">');\n",
       "    fig.close_ws(fig, msg);\n",
       "}\n",
       "\n",
       "mpl.figure.prototype.close_ws = function(fig, msg){\n",
       "    fig.send_message('closing', msg);\n",
       "    // fig.ws.close()\n",
       "}\n",
       "\n",
       "mpl.figure.prototype.push_to_output = function(remove_interactive) {\n",
       "    // Turn the data on the canvas into data in the output cell.\n",
       "    var dataURL = this.canvas.toDataURL();\n",
       "    this.cell_info[1]['text/html'] = '<img src=\"' + dataURL + '\">';\n",
       "}\n",
       "\n",
       "mpl.figure.prototype.updated_canvas_event = function() {\n",
       "    // Tell IPython that the notebook contents must change.\n",
       "    IPython.notebook.set_dirty(true);\n",
       "    this.send_message(\"ack\", {});\n",
       "    var fig = this;\n",
       "    // Wait a second, then push the new image to the DOM so\n",
       "    // that it is saved nicely (might be nice to debounce this).\n",
       "    setTimeout(function () { fig.push_to_output() }, 1000);\n",
       "}\n",
       "\n",
       "mpl.figure.prototype._init_toolbar = function() {\n",
       "    var fig = this;\n",
       "\n",
       "    var nav_element = $('<div/>')\n",
       "    nav_element.attr('style', 'width: 100%');\n",
       "    this.root.append(nav_element);\n",
       "\n",
       "    // Define a callback function for later on.\n",
       "    function toolbar_event(event) {\n",
       "        return fig.toolbar_button_onclick(event['data']);\n",
       "    }\n",
       "    function toolbar_mouse_event(event) {\n",
       "        return fig.toolbar_button_onmouseover(event['data']);\n",
       "    }\n",
       "\n",
       "    for(var toolbar_ind in mpl.toolbar_items){\n",
       "        var name = mpl.toolbar_items[toolbar_ind][0];\n",
       "        var tooltip = mpl.toolbar_items[toolbar_ind][1];\n",
       "        var image = mpl.toolbar_items[toolbar_ind][2];\n",
       "        var method_name = mpl.toolbar_items[toolbar_ind][3];\n",
       "\n",
       "        if (!name) { continue; };\n",
       "\n",
       "        var button = $('<button class=\"btn btn-default\" href=\"#\" title=\"' + name + '\"><i class=\"fa ' + image + ' fa-lg\"></i></button>');\n",
       "        button.click(method_name, toolbar_event);\n",
       "        button.mouseover(tooltip, toolbar_mouse_event);\n",
       "        nav_element.append(button);\n",
       "    }\n",
       "\n",
       "    // Add the status bar.\n",
       "    var status_bar = $('<span class=\"mpl-message\" style=\"text-align:right; float: right;\"/>');\n",
       "    nav_element.append(status_bar);\n",
       "    this.message = status_bar[0];\n",
       "\n",
       "    // Add the close button to the window.\n",
       "    var buttongrp = $('<div class=\"btn-group inline pull-right\"></div>');\n",
       "    var button = $('<button class=\"btn btn-mini btn-primary\" href=\"#\" title=\"Stop Interaction\"><i class=\"fa fa-power-off icon-remove icon-large\"></i></button>');\n",
       "    button.click(function (evt) { fig.handle_close(fig, {}); } );\n",
       "    button.mouseover('Stop Interaction', toolbar_mouse_event);\n",
       "    buttongrp.append(button);\n",
       "    var titlebar = this.root.find($('.ui-dialog-titlebar'));\n",
       "    titlebar.prepend(buttongrp);\n",
       "}\n",
       "\n",
       "mpl.figure.prototype._root_extra_style = function(el){\n",
       "    var fig = this\n",
       "    el.on(\"remove\", function(){\n",
       "\tfig.close_ws(fig, {});\n",
       "    });\n",
       "}\n",
       "\n",
       "mpl.figure.prototype._canvas_extra_style = function(el){\n",
       "    // this is important to make the div 'focusable\n",
       "    el.attr('tabindex', 0)\n",
       "    // reach out to IPython and tell the keyboard manager to turn it's self\n",
       "    // off when our div gets focus\n",
       "\n",
       "    // location in version 3\n",
       "    if (IPython.notebook.keyboard_manager) {\n",
       "        IPython.notebook.keyboard_manager.register_events(el);\n",
       "    }\n",
       "    else {\n",
       "        // location in version 2\n",
       "        IPython.keyboard_manager.register_events(el);\n",
       "    }\n",
       "\n",
       "}\n",
       "\n",
       "mpl.figure.prototype._key_event_extra = function(event, name) {\n",
       "    var manager = IPython.notebook.keyboard_manager;\n",
       "    if (!manager)\n",
       "        manager = IPython.keyboard_manager;\n",
       "\n",
       "    // Check for shift+enter\n",
       "    if (event.shiftKey && event.which == 13) {\n",
       "        this.canvas_div.blur();\n",
       "        event.shiftKey = false;\n",
       "        // Send a \"J\" for go to next cell\n",
       "        event.which = 74;\n",
       "        event.keyCode = 74;\n",
       "        manager.command_mode();\n",
       "        manager.handle_keydown(event);\n",
       "    }\n",
       "}\n",
       "\n",
       "mpl.figure.prototype.handle_save = function(fig, msg) {\n",
       "    fig.ondownload(fig, null);\n",
       "}\n",
       "\n",
       "\n",
       "mpl.find_output_cell = function(html_output) {\n",
       "    // Return the cell and output element which can be found *uniquely* in the notebook.\n",
       "    // Note - this is a bit hacky, but it is done because the \"notebook_saving.Notebook\"\n",
       "    // IPython event is triggered only after the cells have been serialised, which for\n",
       "    // our purposes (turning an active figure into a static one), is too late.\n",
       "    var cells = IPython.notebook.get_cells();\n",
       "    var ncells = cells.length;\n",
       "    for (var i=0; i<ncells; i++) {\n",
       "        var cell = cells[i];\n",
       "        if (cell.cell_type === 'code'){\n",
       "            for (var j=0; j<cell.output_area.outputs.length; j++) {\n",
       "                var data = cell.output_area.outputs[j];\n",
       "                if (data.data) {\n",
       "                    // IPython >= 3 moved mimebundle to data attribute of output\n",
       "                    data = data.data;\n",
       "                }\n",
       "                if (data['text/html'] == html_output) {\n",
       "                    return [cell, data, j];\n",
       "                }\n",
       "            }\n",
       "        }\n",
       "    }\n",
       "}\n",
       "\n",
       "// Register the function which deals with the matplotlib target/channel.\n",
       "// The kernel may be null if the page has been refreshed.\n",
       "if (IPython.notebook.kernel != null) {\n",
       "    IPython.notebook.kernel.comm_manager.register_target('matplotlib', mpl.mpl_figure_comm);\n",
       "}\n"
      ],
      "text/plain": [
       "<IPython.core.display.Javascript object>"
      ]
     },
     "metadata": {},
     "output_type": "display_data"
    },
    {
     "data": {
      "text/html": [
       "<img src=\"data:image/png;base64,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\">"
      ],
      "text/plain": [
       "<IPython.core.display.HTML object>"
      ]
     },
     "metadata": {},
     "output_type": "display_data"
    },
    {
     "data": {
      "text/plain": [
       "<matplotlib.image.AxesImage at 0x1175fd350>"
      ]
     },
     "execution_count": 11,
     "metadata": {},
     "output_type": "execute_result"
    }
   ],
   "source": [
    "plt.xticks = labels\n",
    "plt.matshow(df.corr())"
   ]
  },
  {
   "cell_type": "markdown",
   "metadata": {},
   "source": [
    "We can clearly see from this that there are correlations between some of the features"
   ]
  },
  {
   "cell_type": "markdown",
   "metadata": {},
   "source": [
    "## Individual Correlations"
   ]
  },
  {
   "cell_type": "code",
   "execution_count": 32,
   "metadata": {
    "collapsed": true
   },
   "outputs": [],
   "source": [
    "from scipy.stats import pearsonr"
   ]
  },
  {
   "cell_type": "markdown",
   "metadata": {},
   "source": [
    "#### Arrival and Departure"
   ]
  },
  {
   "cell_type": "code",
   "execution_count": 33,
   "metadata": {
    "collapsed": true
   },
   "outputs": [],
   "source": [
    "df_clean = df[['arrival', 'departure']].dropna()"
   ]
  },
  {
   "cell_type": "code",
   "execution_count": 34,
   "metadata": {
    "collapsed": false
   },
   "outputs": [
    {
     "data": {
      "text/plain": [
       "(0.99904361970869349, 0.0)"
      ]
     },
     "execution_count": 34,
     "metadata": {},
     "output_type": "execute_result"
    }
   ],
   "source": [
    "pearsonr(df_clean['arrival'], df_clean['departure'])"
   ]
  },
  {
   "cell_type": "markdown",
   "metadata": {},
   "source": [
    "So clearly these things are very highly correlated (as is obvious)"
   ]
  },
  {
   "cell_type": "markdown",
   "metadata": {},
   "source": [
    "#### Num_Adults and Num_Children"
   ]
  },
  {
   "cell_type": "code",
   "execution_count": 36,
   "metadata": {
    "collapsed": false
   },
   "outputs": [
    {
     "data": {
      "text/plain": [
       "(-0.140557887099893, 2.0209665677443185e-204)"
      ]
     },
     "execution_count": 36,
     "metadata": {},
     "output_type": "execute_result"
    }
   ],
   "source": [
    "pearsonr(df['num_adults'], df['num_children'])"
   ]
  },
  {
   "cell_type": "markdown",
   "metadata": {},
   "source": [
    "So clearly another high correlation"
   ]
  },
  {
   "cell_type": "markdown",
   "metadata": {},
   "source": [
    "#### Hotel Feature 4 and Hotel Feature 1"
   ]
  },
  {
   "cell_type": "code",
   "execution_count": 39,
   "metadata": {
    "collapsed": false
   },
   "outputs": [
    {
     "data": {
      "text/plain": [
       "(-0.31381976505352999, 0.0)"
      ]
     },
     "execution_count": 39,
     "metadata": {},
     "output_type": "execute_result"
    }
   ],
   "source": [
    "df_clean = df[['hotel_feature_1', 'hotel_feature_4']].dropna()\n",
    "pearsonr(df_clean['hotel_feature_1'], df_clean['hotel_feature_4'])"
   ]
  },
  {
   "cell_type": "markdown",
   "metadata": {},
   "source": [
    "Another very high correlation"
   ]
  },
  {
   "cell_type": "markdown",
   "metadata": {},
   "source": [
    "## Now try two features that do not correlate with each other"
   ]
  },
  {
   "cell_type": "code",
   "execution_count": 40,
   "metadata": {
    "collapsed": true
   },
   "outputs": [],
   "source": [
    "# Hotel Feature 4 and Hotel Id"
   ]
  },
  {
   "cell_type": "code",
   "execution_count": 43,
   "metadata": {
    "collapsed": false
   },
   "outputs": [
    {
     "data": {
      "text/plain": [
       "(-0.30189685188259763, 0.0)"
      ]
     },
     "execution_count": 43,
     "metadata": {},
     "output_type": "execute_result"
    }
   ],
   "source": [
    "df_clean = df[['hotel_feature_1', 'hotel_id']].dropna()\n",
    "pearsonr(df_clean['hotel_feature_1'], df_clean['hotel_id'])"
   ]
  },
  {
   "cell_type": "markdown",
   "metadata": {},
   "source": [
    "# None of this is working so I'm going to try with booked"
   ]
  },
  {
   "cell_type": "code",
   "execution_count": 45,
   "metadata": {
    "collapsed": false
   },
   "outputs": [
    {
     "data": {
      "text/plain": [
       "(0.022360106569484839, 1.366760700807076e-06)"
      ]
     },
     "execution_count": 45,
     "metadata": {},
     "output_type": "execute_result"
    }
   ],
   "source": [
    "pearsonr(df['booked'], df['search_date'])"
   ]
  },
  {
   "cell_type": "code",
   "execution_count": 46,
   "metadata": {
    "collapsed": false
   },
   "outputs": [
    {
     "data": {
      "text/plain": [
       "(-0.046896282724195749, 3.90650731090465e-24)"
      ]
     },
     "execution_count": 46,
     "metadata": {},
     "output_type": "execute_result"
    }
   ],
   "source": [
    "pearsonr(df['booked'], df['arrival'])"
   ]
  },
  {
   "cell_type": "code",
   "execution_count": 47,
   "metadata": {
    "collapsed": false
   },
   "outputs": [
    {
     "data": {
      "text/plain": [
       "(-0.04760241736989166, 8.0913282549272933e-25)"
      ]
     },
     "execution_count": 47,
     "metadata": {},
     "output_type": "execute_result"
    }
   ],
   "source": [
    "pearsonr(df['booked'], df['departure'])"
   ]
  },
  {
   "cell_type": "code",
   "execution_count": 48,
   "metadata": {
    "collapsed": false
   },
   "outputs": [
    {
     "data": {
      "text/plain": [
       "(-0.0084502387228276299, 0.067992098825297623)"
      ]
     },
     "execution_count": 48,
     "metadata": {},
     "output_type": "execute_result"
    }
   ],
   "source": [
    "pearsonr(df['booked'], df['num_adults'])"
   ]
  },
  {
   "cell_type": "code",
   "execution_count": 49,
   "metadata": {
    "collapsed": false
   },
   "outputs": [
    {
     "data": {
      "text/plain": [
       "(0.0035696317781410219, 0.44073781995063377)"
      ]
     },
     "execution_count": 49,
     "metadata": {},
     "output_type": "execute_result"
    }
   ],
   "source": [
    "pearsonr(df['booked'], df['num_children'])"
   ]
  },
  {
   "cell_type": "code",
   "execution_count": 50,
   "metadata": {
    "collapsed": false
   },
   "outputs": [
    {
     "data": {
      "text/plain": [
       "(0.034642029355256981, 7.2092735072369297e-14)"
      ]
     },
     "execution_count": 50,
     "metadata": {},
     "output_type": "execute_result"
    }
   ],
   "source": [
    "pearsonr(df['booked'], df['search_id'])"
   ]
  },
  {
   "cell_type": "code",
   "execution_count": 51,
   "metadata": {
    "collapsed": false
   },
   "outputs": [
    {
     "data": {
      "text/plain": [
       "(-0.0035227959863743368, 0.44675711397719631)"
      ]
     },
     "execution_count": 51,
     "metadata": {},
     "output_type": "execute_result"
    }
   ],
   "source": [
    "pearsonr(df['booked'], df['hotel_id'])"
   ]
  },
  {
   "cell_type": "code",
   "execution_count": 52,
   "metadata": {
    "collapsed": false
   },
   "outputs": [
    {
     "data": {
      "text/plain": [
       "(-0.018996861209305389, 4.0749847198349342e-05)"
      ]
     },
     "execution_count": 52,
     "metadata": {},
     "output_type": "execute_result"
    }
   ],
   "source": [
    "pearsonr(df['booked'], df['hotel_price'])"
   ]
  },
  {
   "cell_type": "code",
   "execution_count": 53,
   "metadata": {
    "collapsed": false
   },
   "outputs": [
    {
     "data": {
      "text/plain": [
       "(0.019874229799385901, 1.7649077867944118e-05)"
      ]
     },
     "execution_count": 53,
     "metadata": {},
     "output_type": "execute_result"
    }
   ],
   "source": [
    "pearsonr(df['booked'], df['is_promo'])"
   ]
  },
  {
   "cell_type": "code",
   "execution_count": 56,
   "metadata": {
    "collapsed": false
   },
   "outputs": [
    {
     "data": {
      "text/plain": [
       "(0.029815581516262624, 2.0536516518661371e-10)"
      ]
     },
     "execution_count": 56,
     "metadata": {},
     "output_type": "execute_result"
    }
   ],
   "source": [
    "df_clean = df[['booked', 'hotel_feature_1']].dropna()\n",
    "pearsonr(df_clean['booked'], df_clean['hotel_feature_1'])"
   ]
  },
  {
   "cell_type": "code",
   "execution_count": 58,
   "metadata": {
    "collapsed": false
   },
   "outputs": [
    {
     "data": {
      "text/plain": [
       "(-0.019006468166363137, 4.2963750017539173e-05)"
      ]
     },
     "execution_count": 58,
     "metadata": {},
     "output_type": "execute_result"
    }
   ],
   "source": [
    "df_clean = df[['booked', 'hotel_feature_2']].dropna()\n",
    "pearsonr(df_clean['booked'], df_clean['hotel_feature_2'])"
   ]
  },
  {
   "cell_type": "code",
   "execution_count": 59,
   "metadata": {
    "collapsed": false
   },
   "outputs": [
    {
     "data": {
      "text/plain": [
       "(-0.016312161155440676, 0.00042632615109153288)"
      ]
     },
     "execution_count": 59,
     "metadata": {},
     "output_type": "execute_result"
    }
   ],
   "source": [
    "pearsonr(df['booked'], df['hotel_feature_3'])"
   ]
  },
  {
   "cell_type": "code",
   "execution_count": 60,
   "metadata": {
    "collapsed": false
   },
   "outputs": [
    {
     "data": {
      "text/plain": [
       "(-0.00037668240195769427, 0.93516092856786015)"
      ]
     },
     "execution_count": 60,
     "metadata": {},
     "output_type": "execute_result"
    }
   ],
   "source": [
    "pearsonr(df['booked'], df['hotel_feature_4'])"
   ]
  },
  {
   "cell_type": "code",
   "execution_count": 61,
   "metadata": {
    "collapsed": false
   },
   "outputs": [
    {
     "data": {
      "text/plain": [
       "(0.017078118391421454, 0.00022541351927056485)"
      ]
     },
     "execution_count": 61,
     "metadata": {},
     "output_type": "execute_result"
    }
   ],
   "source": [
    "pearsonr(df['booked'], df['hotel_feature_5'])"
   ]
  },
  {
   "cell_type": "code",
   "execution_count": 62,
   "metadata": {
    "collapsed": false
   },
   "outputs": [
    {
     "data": {
      "text/plain": [
       "(1.0, 0.0)"
      ]
     },
     "execution_count": 62,
     "metadata": {},
     "output_type": "execute_result"
    }
   ],
   "source": [
    "pearsonr(df['booked'], df['booked'])"
   ]
  },
  {
   "cell_type": "code",
   "execution_count": null,
   "metadata": {
    "collapsed": true
   },
   "outputs": [],
   "source": []
  }
 ],
 "metadata": {
  "kernelspec": {
   "display_name": "Python 2",
   "language": "python",
   "name": "python2"
  },
  "language_info": {
   "codemirror_mode": {
    "name": "ipython",
    "version": 2
   },
   "file_extension": ".py",
   "mimetype": "text/x-python",
   "name": "python",
   "nbconvert_exporter": "python",
   "pygments_lexer": "ipython2",
   "version": "2.7.11"
  }
 },
 "nbformat": 4,
 "nbformat_minor": 0
}
