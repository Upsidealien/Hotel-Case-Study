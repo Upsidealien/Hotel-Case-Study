{
 "cells": [
  {
   "cell_type": "markdown",
   "metadata": {},
   "source": [
    "# Expedia Case Study"
   ]
  },
  {
   "cell_type": "code",
   "execution_count": 92,
   "metadata": {
    "collapsed": false
   },
   "outputs": [],
   "source": [
    "import pandas as pd\n",
    "import numpy as np"
   ]
  },
  {
   "cell_type": "code",
   "execution_count": 93,
   "metadata": {
    "collapsed": true
   },
   "outputs": [],
   "source": [
    "df = pd.read_csv('case_study_data.csv')"
   ]
  },
  {
   "cell_type": "code",
   "execution_count": 94,
   "metadata": {
    "collapsed": false
   },
   "outputs": [
    {
     "data": {
      "text/html": [
       "<div>\n",
       "<table border=\"1\" class=\"dataframe\">\n",
       "  <thead>\n",
       "    <tr style=\"text-align: right;\">\n",
       "      <th></th>\n",
       "      <th>search_date</th>\n",
       "      <th>arrival</th>\n",
       "      <th>departure</th>\n",
       "      <th>num_adults</th>\n",
       "      <th>num_children</th>\n",
       "      <th>search_id</th>\n",
       "      <th>hotel_id</th>\n",
       "      <th>hotel_price</th>\n",
       "      <th>is_promo</th>\n",
       "      <th>hotel_feature_1</th>\n",
       "      <th>hotel_feature_2</th>\n",
       "      <th>hotel_feature_3</th>\n",
       "      <th>hotel_feature_4</th>\n",
       "      <th>hotel_feature_5</th>\n",
       "      <th>booked</th>\n",
       "    </tr>\n",
       "  </thead>\n",
       "  <tbody>\n",
       "    <tr>\n",
       "      <th>0</th>\n",
       "      <td>25</td>\n",
       "      <td>457</td>\n",
       "      <td>471</td>\n",
       "      <td>3</td>\n",
       "      <td>2</td>\n",
       "      <td>0</td>\n",
       "      <td>517</td>\n",
       "      <td>1724.38</td>\n",
       "      <td>0</td>\n",
       "      <td>64.490309</td>\n",
       "      <td>85.0</td>\n",
       "      <td>7</td>\n",
       "      <td>0</td>\n",
       "      <td>0</td>\n",
       "      <td>0</td>\n",
       "    </tr>\n",
       "    <tr>\n",
       "      <th>1</th>\n",
       "      <td>25</td>\n",
       "      <td>457</td>\n",
       "      <td>471</td>\n",
       "      <td>3</td>\n",
       "      <td>2</td>\n",
       "      <td>0</td>\n",
       "      <td>517</td>\n",
       "      <td>1724.38</td>\n",
       "      <td>0</td>\n",
       "      <td>64.490309</td>\n",
       "      <td>85.0</td>\n",
       "      <td>7</td>\n",
       "      <td>0</td>\n",
       "      <td>0</td>\n",
       "      <td>0</td>\n",
       "    </tr>\n",
       "    <tr>\n",
       "      <th>2</th>\n",
       "      <td>25</td>\n",
       "      <td>457</td>\n",
       "      <td>471</td>\n",
       "      <td>3</td>\n",
       "      <td>2</td>\n",
       "      <td>0</td>\n",
       "      <td>29771</td>\n",
       "      <td>1905.54</td>\n",
       "      <td>1</td>\n",
       "      <td>25.826343</td>\n",
       "      <td>52.0</td>\n",
       "      <td>13</td>\n",
       "      <td>1</td>\n",
       "      <td>1</td>\n",
       "      <td>0</td>\n",
       "    </tr>\n",
       "    <tr>\n",
       "      <th>3</th>\n",
       "      <td>25</td>\n",
       "      <td>458</td>\n",
       "      <td>463</td>\n",
       "      <td>2</td>\n",
       "      <td>0</td>\n",
       "      <td>1</td>\n",
       "      <td>517</td>\n",
       "      <td>2077.95</td>\n",
       "      <td>0</td>\n",
       "      <td>64.490309</td>\n",
       "      <td>85.0</td>\n",
       "      <td>9</td>\n",
       "      <td>0</td>\n",
       "      <td>0</td>\n",
       "      <td>0</td>\n",
       "    </tr>\n",
       "    <tr>\n",
       "      <th>4</th>\n",
       "      <td>25</td>\n",
       "      <td>458</td>\n",
       "      <td>463</td>\n",
       "      <td>2</td>\n",
       "      <td>0</td>\n",
       "      <td>1</td>\n",
       "      <td>40744</td>\n",
       "      <td>6822.10</td>\n",
       "      <td>0</td>\n",
       "      <td>24.959968</td>\n",
       "      <td>52.0</td>\n",
       "      <td>11</td>\n",
       "      <td>1</td>\n",
       "      <td>2</td>\n",
       "      <td>0</td>\n",
       "    </tr>\n",
       "  </tbody>\n",
       "</table>\n",
       "</div>"
      ],
      "text/plain": [
       "   search_date  arrival  departure  num_adults  num_children  search_id  \\\n",
       "0           25      457        471           3             2          0   \n",
       "1           25      457        471           3             2          0   \n",
       "2           25      457        471           3             2          0   \n",
       "3           25      458        463           2             0          1   \n",
       "4           25      458        463           2             0          1   \n",
       "\n",
       "   hotel_id  hotel_price  is_promo  hotel_feature_1  hotel_feature_2  \\\n",
       "0       517      1724.38         0        64.490309             85.0   \n",
       "1       517      1724.38         0        64.490309             85.0   \n",
       "2     29771      1905.54         1        25.826343             52.0   \n",
       "3       517      2077.95         0        64.490309             85.0   \n",
       "4     40744      6822.10         0        24.959968             52.0   \n",
       "\n",
       "   hotel_feature_3  hotel_feature_4  hotel_feature_5  booked  \n",
       "0                7                0                0       0  \n",
       "1                7                0                0       0  \n",
       "2               13                1                1       0  \n",
       "3                9                0                0       0  \n",
       "4               11                1                2       0  "
      ]
     },
     "execution_count": 94,
     "metadata": {},
     "output_type": "execute_result"
    }
   ],
   "source": [
    "df.head()"
   ]
  },
  {
   "cell_type": "code",
   "execution_count": 95,
   "metadata": {
    "collapsed": true
   },
   "outputs": [],
   "source": [
    "df['stay_length'] = df['departure'] - df['arrival']"
   ]
  },
  {
   "cell_type": "code",
   "execution_count": 96,
   "metadata": {
    "collapsed": false
   },
   "outputs": [
    {
     "data": {
      "text/plain": [
       "1"
      ]
     },
     "execution_count": 96,
     "metadata": {},
     "output_type": "execute_result"
    }
   ],
   "source": [
    "df['stay_length'].min()"
   ]
  },
  {
   "cell_type": "code",
   "execution_count": 97,
   "metadata": {
    "collapsed": false
   },
   "outputs": [
    {
     "data": {
      "text/html": [
       "<div>\n",
       "<table border=\"1\" class=\"dataframe\">\n",
       "  <thead>\n",
       "    <tr style=\"text-align: right;\">\n",
       "      <th></th>\n",
       "      <th>search_date</th>\n",
       "      <th>arrival</th>\n",
       "      <th>departure</th>\n",
       "      <th>num_adults</th>\n",
       "      <th>num_children</th>\n",
       "      <th>search_id</th>\n",
       "      <th>hotel_id</th>\n",
       "      <th>hotel_price</th>\n",
       "      <th>is_promo</th>\n",
       "      <th>hotel_feature_1</th>\n",
       "      <th>hotel_feature_2</th>\n",
       "      <th>hotel_feature_3</th>\n",
       "      <th>hotel_feature_4</th>\n",
       "      <th>hotel_feature_5</th>\n",
       "      <th>booked</th>\n",
       "      <th>stay_length</th>\n",
       "    </tr>\n",
       "  </thead>\n",
       "  <tbody>\n",
       "    <tr>\n",
       "      <th>count</th>\n",
       "      <td>46647.000000</td>\n",
       "      <td>46647.000000</td>\n",
       "      <td>46647.000000</td>\n",
       "      <td>46647.000000</td>\n",
       "      <td>46647.000000</td>\n",
       "      <td>46647.000000</td>\n",
       "      <td>46647.000000</td>\n",
       "      <td>46647.000000</td>\n",
       "      <td>46647.000000</td>\n",
       "      <td>45445.000000</td>\n",
       "      <td>46322.000000</td>\n",
       "      <td>46647.000000</td>\n",
       "      <td>46647.000000</td>\n",
       "      <td>46647.000000</td>\n",
       "      <td>46647.000000</td>\n",
       "      <td>46647.000000</td>\n",
       "    </tr>\n",
       "    <tr>\n",
       "      <th>mean</th>\n",
       "      <td>11.734517</td>\n",
       "      <td>126.788046</td>\n",
       "      <td>134.479902</td>\n",
       "      <td>2.370570</td>\n",
       "      <td>0.812335</td>\n",
       "      <td>5509.648659</td>\n",
       "      <td>23095.564302</td>\n",
       "      <td>2599.055621</td>\n",
       "      <td>0.501490</td>\n",
       "      <td>76.849742</td>\n",
       "      <td>63.108847</td>\n",
       "      <td>59.068729</td>\n",
       "      <td>5.982335</td>\n",
       "      <td>2.357601</td>\n",
       "      <td>0.006603</td>\n",
       "      <td>7.691856</td>\n",
       "    </tr>\n",
       "    <tr>\n",
       "      <th>std</th>\n",
       "      <td>7.336887</td>\n",
       "      <td>90.867556</td>\n",
       "      <td>92.517336</td>\n",
       "      <td>0.912667</td>\n",
       "      <td>0.949223</td>\n",
       "      <td>4460.689701</td>\n",
       "      <td>13480.392766</td>\n",
       "      <td>4490.091588</td>\n",
       "      <td>0.500003</td>\n",
       "      <td>41.747830</td>\n",
       "      <td>22.846125</td>\n",
       "      <td>51.378153</td>\n",
       "      <td>6.014773</td>\n",
       "      <td>1.811249</td>\n",
       "      <td>0.080990</td>\n",
       "      <td>4.336129</td>\n",
       "    </tr>\n",
       "    <tr>\n",
       "      <th>min</th>\n",
       "      <td>0.000000</td>\n",
       "      <td>0.000000</td>\n",
       "      <td>1.000000</td>\n",
       "      <td>1.000000</td>\n",
       "      <td>0.000000</td>\n",
       "      <td>0.000000</td>\n",
       "      <td>1.000000</td>\n",
       "      <td>30.370000</td>\n",
       "      <td>0.000000</td>\n",
       "      <td>2.000000</td>\n",
       "      <td>0.000000</td>\n",
       "      <td>1.000000</td>\n",
       "      <td>0.000000</td>\n",
       "      <td>0.000000</td>\n",
       "      <td>0.000000</td>\n",
       "      <td>1.000000</td>\n",
       "    </tr>\n",
       "    <tr>\n",
       "      <th>25%</th>\n",
       "      <td>6.000000</td>\n",
       "      <td>49.000000</td>\n",
       "      <td>54.000000</td>\n",
       "      <td>2.000000</td>\n",
       "      <td>0.000000</td>\n",
       "      <td>1656.000000</td>\n",
       "      <td>11474.000000</td>\n",
       "      <td>559.400000</td>\n",
       "      <td>0.000000</td>\n",
       "      <td>46.238512</td>\n",
       "      <td>52.000000</td>\n",
       "      <td>16.000000</td>\n",
       "      <td>1.000000</td>\n",
       "      <td>1.000000</td>\n",
       "      <td>0.000000</td>\n",
       "      <td>5.000000</td>\n",
       "    </tr>\n",
       "    <tr>\n",
       "      <th>50%</th>\n",
       "      <td>12.000000</td>\n",
       "      <td>109.000000</td>\n",
       "      <td>116.000000</td>\n",
       "      <td>2.000000</td>\n",
       "      <td>0.000000</td>\n",
       "      <td>4488.000000</td>\n",
       "      <td>23309.000000</td>\n",
       "      <td>1336.600000</td>\n",
       "      <td>1.000000</td>\n",
       "      <td>67.712628</td>\n",
       "      <td>52.000000</td>\n",
       "      <td>46.000000</td>\n",
       "      <td>4.000000</td>\n",
       "      <td>1.000000</td>\n",
       "      <td>0.000000</td>\n",
       "      <td>7.000000</td>\n",
       "    </tr>\n",
       "    <tr>\n",
       "      <th>75%</th>\n",
       "      <td>17.000000</td>\n",
       "      <td>187.000000</td>\n",
       "      <td>197.000000</td>\n",
       "      <td>3.000000</td>\n",
       "      <td>2.000000</td>\n",
       "      <td>8727.000000</td>\n",
       "      <td>33668.000000</td>\n",
       "      <td>3090.510000</td>\n",
       "      <td>1.000000</td>\n",
       "      <td>128.117134</td>\n",
       "      <td>90.000000</td>\n",
       "      <td>86.000000</td>\n",
       "      <td>9.000000</td>\n",
       "      <td>4.000000</td>\n",
       "      <td>0.000000</td>\n",
       "      <td>10.000000</td>\n",
       "    </tr>\n",
       "    <tr>\n",
       "      <th>max</th>\n",
       "      <td>25.000000</td>\n",
       "      <td>493.000000</td>\n",
       "      <td>501.000000</td>\n",
       "      <td>8.000000</td>\n",
       "      <td>6.000000</td>\n",
       "      <td>16015.000000</td>\n",
       "      <td>46647.000000</td>\n",
       "      <td>175454.410000</td>\n",
       "      <td>1.000000</td>\n",
       "      <td>143.777606</td>\n",
       "      <td>100.000000</td>\n",
       "      <td>287.000000</td>\n",
       "      <td>36.000000</td>\n",
       "      <td>7.000000</td>\n",
       "      <td>1.000000</td>\n",
       "      <td>28.000000</td>\n",
       "    </tr>\n",
       "  </tbody>\n",
       "</table>\n",
       "</div>"
      ],
      "text/plain": [
       "        search_date       arrival     departure    num_adults  num_children  \\\n",
       "count  46647.000000  46647.000000  46647.000000  46647.000000  46647.000000   \n",
       "mean      11.734517    126.788046    134.479902      2.370570      0.812335   \n",
       "std        7.336887     90.867556     92.517336      0.912667      0.949223   \n",
       "min        0.000000      0.000000      1.000000      1.000000      0.000000   \n",
       "25%        6.000000     49.000000     54.000000      2.000000      0.000000   \n",
       "50%       12.000000    109.000000    116.000000      2.000000      0.000000   \n",
       "75%       17.000000    187.000000    197.000000      3.000000      2.000000   \n",
       "max       25.000000    493.000000    501.000000      8.000000      6.000000   \n",
       "\n",
       "          search_id      hotel_id    hotel_price      is_promo  \\\n",
       "count  46647.000000  46647.000000   46647.000000  46647.000000   \n",
       "mean    5509.648659  23095.564302    2599.055621      0.501490   \n",
       "std     4460.689701  13480.392766    4490.091588      0.500003   \n",
       "min        0.000000      1.000000      30.370000      0.000000   \n",
       "25%     1656.000000  11474.000000     559.400000      0.000000   \n",
       "50%     4488.000000  23309.000000    1336.600000      1.000000   \n",
       "75%     8727.000000  33668.000000    3090.510000      1.000000   \n",
       "max    16015.000000  46647.000000  175454.410000      1.000000   \n",
       "\n",
       "       hotel_feature_1  hotel_feature_2  hotel_feature_3  hotel_feature_4  \\\n",
       "count     45445.000000     46322.000000     46647.000000     46647.000000   \n",
       "mean         76.849742        63.108847        59.068729         5.982335   \n",
       "std          41.747830        22.846125        51.378153         6.014773   \n",
       "min           2.000000         0.000000         1.000000         0.000000   \n",
       "25%          46.238512        52.000000        16.000000         1.000000   \n",
       "50%          67.712628        52.000000        46.000000         4.000000   \n",
       "75%         128.117134        90.000000        86.000000         9.000000   \n",
       "max         143.777606       100.000000       287.000000        36.000000   \n",
       "\n",
       "       hotel_feature_5        booked   stay_length  \n",
       "count     46647.000000  46647.000000  46647.000000  \n",
       "mean          2.357601      0.006603      7.691856  \n",
       "std           1.811249      0.080990      4.336129  \n",
       "min           0.000000      0.000000      1.000000  \n",
       "25%           1.000000      0.000000      5.000000  \n",
       "50%           1.000000      0.000000      7.000000  \n",
       "75%           4.000000      0.000000     10.000000  \n",
       "max           7.000000      1.000000     28.000000  "
      ]
     },
     "execution_count": 97,
     "metadata": {},
     "output_type": "execute_result"
    }
   ],
   "source": [
    "df.describe()"
   ]
  },
  {
   "cell_type": "code",
   "execution_count": 98,
   "metadata": {
    "collapsed": true
   },
   "outputs": [],
   "source": [
    "# Note: We have some missing data for hotel_feature_1 and hotel_feature_2"
   ]
  },
  {
   "cell_type": "markdown",
   "metadata": {
    "collapsed": true
   },
   "source": [
    "## Cleaning The Data"
   ]
  },
  {
   "cell_type": "markdown",
   "metadata": {
    "collapsed": false
   },
   "source": [
    "### Missing Values\n",
    "\n",
    "First let's remove any rows with missing data"
   ]
  },
  {
   "cell_type": "code",
   "execution_count": 99,
   "metadata": {
    "collapsed": false
   },
   "outputs": [
    {
     "name": "stdout",
     "output_type": "stream",
     "text": [
      "Number of missing hotel_feature_1 entries: 1202\n",
      "Number of missing hotel_feature_2 entries: 325\n"
     ]
    }
   ],
   "source": [
    "print \"Number of missing hotel_feature_1 entries: \" + str(len(df[np.isnan(df['hotel_feature_1'])]))\n",
    "print \"Number of missing hotel_feature_2 entries: \" + str(len(df[np.isnan(df['hotel_feature_2'])]))"
   ]
  },
  {
   "cell_type": "code",
   "execution_count": 100,
   "metadata": {
    "collapsed": false
   },
   "outputs": [
    {
     "data": {
      "text/html": [
       "<div>\n",
       "<table border=\"1\" class=\"dataframe\">\n",
       "  <thead>\n",
       "    <tr style=\"text-align: right;\">\n",
       "      <th></th>\n",
       "      <th>search_date</th>\n",
       "      <th>arrival</th>\n",
       "      <th>departure</th>\n",
       "      <th>num_adults</th>\n",
       "      <th>num_children</th>\n",
       "      <th>search_id</th>\n",
       "      <th>hotel_id</th>\n",
       "      <th>hotel_price</th>\n",
       "      <th>is_promo</th>\n",
       "      <th>hotel_feature_1</th>\n",
       "      <th>hotel_feature_2</th>\n",
       "      <th>hotel_feature_3</th>\n",
       "      <th>hotel_feature_4</th>\n",
       "      <th>hotel_feature_5</th>\n",
       "      <th>booked</th>\n",
       "      <th>stay_length</th>\n",
       "    </tr>\n",
       "  </thead>\n",
       "  <tbody>\n",
       "    <tr>\n",
       "      <th>232</th>\n",
       "      <td>20</td>\n",
       "      <td>51</td>\n",
       "      <td>52</td>\n",
       "      <td>2</td>\n",
       "      <td>0</td>\n",
       "      <td>21</td>\n",
       "      <td>4099</td>\n",
       "      <td>177.75</td>\n",
       "      <td>0</td>\n",
       "      <td>NaN</td>\n",
       "      <td>52.0</td>\n",
       "      <td>9</td>\n",
       "      <td>13</td>\n",
       "      <td>4</td>\n",
       "      <td>0</td>\n",
       "      <td>1</td>\n",
       "    </tr>\n",
       "    <tr>\n",
       "      <th>275</th>\n",
       "      <td>20</td>\n",
       "      <td>51</td>\n",
       "      <td>52</td>\n",
       "      <td>2</td>\n",
       "      <td>0</td>\n",
       "      <td>21</td>\n",
       "      <td>42149</td>\n",
       "      <td>160.99</td>\n",
       "      <td>1</td>\n",
       "      <td>NaN</td>\n",
       "      <td>95.0</td>\n",
       "      <td>27</td>\n",
       "      <td>1</td>\n",
       "      <td>0</td>\n",
       "      <td>0</td>\n",
       "      <td>1</td>\n",
       "    </tr>\n",
       "    <tr>\n",
       "      <th>515</th>\n",
       "      <td>20</td>\n",
       "      <td>78</td>\n",
       "      <td>81</td>\n",
       "      <td>2</td>\n",
       "      <td>1</td>\n",
       "      <td>29</td>\n",
       "      <td>4099</td>\n",
       "      <td>1993.71</td>\n",
       "      <td>0</td>\n",
       "      <td>NaN</td>\n",
       "      <td>52.0</td>\n",
       "      <td>11</td>\n",
       "      <td>13</td>\n",
       "      <td>4</td>\n",
       "      <td>0</td>\n",
       "      <td>3</td>\n",
       "    </tr>\n",
       "    <tr>\n",
       "      <th>520</th>\n",
       "      <td>20</td>\n",
       "      <td>78</td>\n",
       "      <td>81</td>\n",
       "      <td>2</td>\n",
       "      <td>1</td>\n",
       "      <td>29</td>\n",
       "      <td>42149</td>\n",
       "      <td>1682.63</td>\n",
       "      <td>1</td>\n",
       "      <td>NaN</td>\n",
       "      <td>95.0</td>\n",
       "      <td>31</td>\n",
       "      <td>1</td>\n",
       "      <td>0</td>\n",
       "      <td>0</td>\n",
       "      <td>3</td>\n",
       "    </tr>\n",
       "    <tr>\n",
       "      <th>531</th>\n",
       "      <td>23</td>\n",
       "      <td>315</td>\n",
       "      <td>320</td>\n",
       "      <td>4</td>\n",
       "      <td>0</td>\n",
       "      <td>31</td>\n",
       "      <td>42149</td>\n",
       "      <td>561.95</td>\n",
       "      <td>1</td>\n",
       "      <td>NaN</td>\n",
       "      <td>95.0</td>\n",
       "      <td>43</td>\n",
       "      <td>1</td>\n",
       "      <td>0</td>\n",
       "      <td>0</td>\n",
       "      <td>5</td>\n",
       "    </tr>\n",
       "  </tbody>\n",
       "</table>\n",
       "</div>"
      ],
      "text/plain": [
       "     search_date  arrival  departure  num_adults  num_children  search_id  \\\n",
       "232           20       51         52           2             0         21   \n",
       "275           20       51         52           2             0         21   \n",
       "515           20       78         81           2             1         29   \n",
       "520           20       78         81           2             1         29   \n",
       "531           23      315        320           4             0         31   \n",
       "\n",
       "     hotel_id  hotel_price  is_promo  hotel_feature_1  hotel_feature_2  \\\n",
       "232      4099       177.75         0              NaN             52.0   \n",
       "275     42149       160.99         1              NaN             95.0   \n",
       "515      4099      1993.71         0              NaN             52.0   \n",
       "520     42149      1682.63         1              NaN             95.0   \n",
       "531     42149       561.95         1              NaN             95.0   \n",
       "\n",
       "     hotel_feature_3  hotel_feature_4  hotel_feature_5  booked  stay_length  \n",
       "232                9               13                4       0            1  \n",
       "275               27                1                0       0            1  \n",
       "515               11               13                4       0            3  \n",
       "520               31                1                0       0            3  \n",
       "531               43                1                0       0            5  "
      ]
     },
     "execution_count": 100,
     "metadata": {},
     "output_type": "execute_result"
    }
   ],
   "source": [
    "df[np.isnan(df['hotel_feature_1'])].head()"
   ]
  },
  {
   "cell_type": "markdown",
   "metadata": {},
   "source": [
    "For now we are just going to remove all rows that have missing data (in the future I might interpolate and fill in missing values with the mean)"
   ]
  },
  {
   "cell_type": "code",
   "execution_count": 101,
   "metadata": {
    "collapsed": false
   },
   "outputs": [
    {
     "data": {
      "text/plain": [
       "308"
      ]
     },
     "execution_count": 101,
     "metadata": {},
     "output_type": "execute_result"
    }
   ],
   "source": [
    "len(df[df['booked'] == 1])"
   ]
  },
  {
   "cell_type": "code",
   "execution_count": 102,
   "metadata": {
    "collapsed": false
   },
   "outputs": [],
   "source": [
    "df = df[np.isnan(df['hotel_feature_1']) != True]\n",
    "df = df[np.isnan(df['hotel_feature_2']) != True]"
   ]
  },
  {
   "cell_type": "code",
   "execution_count": 103,
   "metadata": {
    "collapsed": false
   },
   "outputs": [
    {
     "data": {
      "text/plain": [
       "299"
      ]
     },
     "execution_count": 103,
     "metadata": {},
     "output_type": "execute_result"
    }
   ],
   "source": [
    "len(df)\n",
    "len(df[df['booked'] == 1])"
   ]
  },
  {
   "cell_type": "markdown",
   "metadata": {},
   "source": [
    "So I have lost 9 of the \"booked = 1\" rows (which is only 1/30th of the set)"
   ]
  },
  {
   "cell_type": "markdown",
   "metadata": {},
   "source": [
    "# Graphing Data to Explore It\n",
    "\n",
    "Now let's graph the columns of df to see if we have any strange looking values"
   ]
  },
  {
   "cell_type": "markdown",
   "metadata": {},
   "source": [
    "### Search Date"
   ]
  },
  {
   "cell_type": "code",
   "execution_count": 65,
   "metadata": {
    "collapsed": false
   },
   "outputs": [
    {
     "data": {
      "text/plain": [
       "search_date\n",
       "0     2071\n",
       "1     2178\n",
       "2     1743\n",
       "3     2355\n",
       "4     2351\n",
       "6     1989\n",
       "7     1739\n",
       "8     1685\n",
       "9     1627\n",
       "10    2010\n",
       "11    2705\n",
       "12    2323\n",
       "13    2344\n",
       "14    2014\n",
       "15    1526\n",
       "16    1403\n",
       "17    2150\n",
       "19    2044\n",
       "20    2135\n",
       "21    1966\n",
       "23    1307\n",
       "24    1869\n",
       "25    1586\n",
       "dtype: int64"
      ]
     },
     "execution_count": 65,
     "metadata": {},
     "output_type": "execute_result"
    }
   ],
   "source": [
    "search_date = df.groupby('search_date').size()\n",
    "search_date"
   ]
  },
  {
   "cell_type": "code",
   "execution_count": 68,
   "metadata": {
    "collapsed": false
   },
   "outputs": [
    {
     "data": {
      "text/plain": [
       "<matplotlib.axes._subplots.AxesSubplot at 0x116e862d0>"
      ]
     },
     "execution_count": 68,
     "metadata": {},
     "output_type": "execute_result"
    },
    {
     "data": {
      "image/png": "[encoded data removed]",
      "text/plain": [
       "<matplotlib.figure.Figure at 0x1174ea350>"
      ]
     },
     "metadata": {},
     "output_type": "display_data"
    }
   ],
   "source": [
    "df['search_date'].plot.hist(orientation='vertical')"
   ]
  },
  {
   "cell_type": "markdown",
   "metadata": {},
   "source": [
    "### Arrival and Departure"
   ]
  },
  {
   "cell_type": "code",
   "execution_count": 69,
   "metadata": {
    "collapsed": false
   },
   "outputs": [
    {
     "data": {
      "text/plain": [
       "<matplotlib.axes._subplots.AxesSubplot at 0x116e901d0>"
      ]
     },
     "execution_count": 69,
     "metadata": {},
     "output_type": "execute_result"
    },
    {
     "data": {
      "image/png": "[encoded data removed]",
      "text/plain": [
       "<matplotlib.figure.Figure at 0x117272cd0>"
      ]
     },
     "metadata": {},
     "output_type": "display_data"
    }
   ],
   "source": [
    "df['arrival'].plot.hist(orientation='vertical')\n"
   ]
  },
  {
   "cell_type": "code",
   "execution_count": 70,
   "metadata": {
    "collapsed": false
   },
   "outputs": [
    {
     "data": {
      "text/plain": [
       "<matplotlib.axes._subplots.AxesSubplot at 0x11729e990>"
      ]
     },
     "execution_count": 70,
     "metadata": {},
     "output_type": "execute_result"
    },
    {
     "data": {
      "image/png": "[encoded data removed]",
      "text/plain": [
       "<matplotlib.figure.Figure at 0x1178687d0>"
      ]
     },
     "metadata": {},
     "output_type": "display_data"
    }
   ],
   "source": [
    "df['departure'].plot.hist(orientation='vertical')"
   ]
  },
  {
   "cell_type": "markdown",
   "metadata": {},
   "source": [
    "### Number of Adults and Children"
   ]
  },
  {
   "cell_type": "code",
   "execution_count": 71,
   "metadata": {
    "collapsed": false
   },
   "outputs": [
    {
     "data": {
      "text/plain": [
       "<matplotlib.axes._subplots.AxesSubplot at 0x113624f90>"
      ]
     },
     "execution_count": 71,
     "metadata": {},
     "output_type": "execute_result"
    },
    {
     "data": {
      "image/png": "[encoded data removed]",
      "text/plain": [
       "<matplotlib.figure.Figure at 0x117aec210>"
      ]
     },
     "metadata": {},
     "output_type": "display_data"
    }
   ],
   "source": [
    "df['num_adults'].plot.hist(orientation='vertical')"
   ]
  },
  {
   "cell_type": "code",
   "execution_count": 88,
   "metadata": {
    "collapsed": false
   },
   "outputs": [
    {
     "data": {
      "text/plain": [
       "<matplotlib.axes._subplots.AxesSubplot at 0x118583390>"
      ]
     },
     "execution_count": 88,
     "metadata": {},
     "output_type": "execute_result"
    },
    {
     "data": {
      "image/png": "[encoded data removed]",
      "text/plain": [
       "<matplotlib.figure.Figure at 0x11de4ded0>"
      ]
     },
     "metadata": {},
     "output_type": "display_data"
    }
   ],
   "source": [
    "df['num_children'].plot.hist(orientation='vertical')"
   ]
  },
  {
   "cell_type": "markdown",
   "metadata": {},
   "source": [
    "Do the gaps in the above histograms suggest that there is a"
   ]
  },
  {
   "cell_type": "markdown",
   "metadata": {},
   "source": [
    "### Number of Hotels"
   ]
  },
  {
   "cell_type": "code",
   "execution_count": 80,
   "metadata": {
    "collapsed": false
   },
   "outputs": [
    {
     "name": "stdout",
     "output_type": "stream",
     "text": [
      "The number of hotels in our dataset is 343\n"
     ]
    }
   ],
   "source": [
    "print \"The number of hotels in our dataset is \" + str(len(df['hotel_id'].unique()))"
   ]
  },
  {
   "cell_type": "markdown",
   "metadata": {},
   "source": [
    "### Is_Promo Ratio"
   ]
  },
  {
   "cell_type": "code",
   "execution_count": 81,
   "metadata": {
    "collapsed": false
   },
   "outputs": [
    {
     "data": {
      "text/plain": [
       "<matplotlib.axes._subplots.AxesSubplot at 0x1184950d0>"
      ]
     },
     "execution_count": 81,
     "metadata": {},
     "output_type": "execute_result"
    },
    {
     "data": {
      "image/png": "[encoded data removed]",
      "text/plain": [
       "<matplotlib.figure.Figure at 0x118583ad0>"
      ]
     },
     "metadata": {},
     "output_type": "display_data"
    }
   ],
   "source": [
    "df['is_promo'].plot.hist(orientation='vertical')"
   ]
  },
  {
   "cell_type": "markdown",
   "metadata": {},
   "source": [
    "## Hotel Features"
   ]
  },
  {
   "cell_type": "markdown",
   "metadata": {},
   "source": [
    "#### Hotel Feature 2"
   ]
  },
  {
   "cell_type": "code",
   "execution_count": 82,
   "metadata": {
    "collapsed": false
   },
   "outputs": [
    {
     "data": {
      "text/plain": [
       "<matplotlib.axes._subplots.AxesSubplot at 0x118a44b10>"
      ]
     },
     "execution_count": 82,
     "metadata": {},
     "output_type": "execute_result"
    },
    {
     "data": {
      "image/png": "[encoded data removed]",
      "text/plain": [
       "<matplotlib.figure.Figure at 0x1190b73d0>"
      ]
     },
     "metadata": {},
     "output_type": "display_data"
    }
   ],
   "source": [
    "df['hotel_feature_2'].plot.hist(orientation='vertical')"
   ]
  },
  {
   "cell_type": "markdown",
   "metadata": {},
   "source": [
    "#### Hotel Feature 3"
   ]
  },
  {
   "cell_type": "code",
   "execution_count": 83,
   "metadata": {
    "collapsed": false
   },
   "outputs": [
    {
     "data": {
      "text/plain": [
       "<matplotlib.axes._subplots.AxesSubplot at 0x11944ff90>"
      ]
     },
     "execution_count": 83,
     "metadata": {},
     "output_type": "execute_result"
    },
    {
     "data": {
      "image/png": "[encoded data removed]",
      "text/plain": [
       "<matplotlib.figure.Figure at 0x1190eb5d0>"
      ]
     },
     "metadata": {},
     "output_type": "display_data"
    }
   ],
   "source": [
    "df['hotel_feature_3'].plot.hist(orientation='vertical')"
   ]
  },
  {
   "cell_type": "markdown",
   "metadata": {},
   "source": [
    "#### Hotel Feature 4"
   ]
  },
  {
   "cell_type": "code",
   "execution_count": 84,
   "metadata": {
    "collapsed": false
   },
   "outputs": [
    {
     "data": {
      "text/plain": [
       "<matplotlib.axes._subplots.AxesSubplot at 0x11a57c310>"
      ]
     },
     "execution_count": 84,
     "metadata": {},
     "output_type": "execute_result"
    },
    {
     "data": {
      "image/png": "[encoded data removed]",
      "text/plain": [
       "<matplotlib.figure.Figure at 0x11a6191d0>"
      ]
     },
     "metadata": {},
     "output_type": "display_data"
    }
   ],
   "source": [
    "df['hotel_feature_4'].plot.hist(orientation='vertical')"
   ]
  },
  {
   "cell_type": "markdown",
   "metadata": {},
   "source": [
    "#### Hotel Feature 5"
   ]
  },
  {
   "cell_type": "code",
   "execution_count": 85,
   "metadata": {
    "collapsed": false
   },
   "outputs": [
    {
     "data": {
      "text/plain": [
       "<matplotlib.axes._subplots.AxesSubplot at 0x11b1ebc90>"
      ]
     },
     "execution_count": 85,
     "metadata": {},
     "output_type": "execute_result"
    },
    {
     "data": {
      "image/png": "[encoded data removed]",
      "text/plain": [
       "<matplotlib.figure.Figure at 0x11b3bdcd0>"
      ]
     },
     "metadata": {},
     "output_type": "display_data"
    }
   ],
   "source": [
    "df['hotel_feature_5'].plot.hist(orientation='vertical')"
   ]
  },
  {
   "cell_type": "markdown",
   "metadata": {},
   "source": [
    "## Booked"
   ]
  },
  {
   "cell_type": "code",
   "execution_count": 86,
   "metadata": {
    "collapsed": false
   },
   "outputs": [
    {
     "data": {
      "text/plain": [
       "<matplotlib.axes._subplots.AxesSubplot at 0x11aba6410>"
      ]
     },
     "execution_count": 86,
     "metadata": {},
     "output_type": "execute_result"
    },
    {
     "data": {
      "image/png": "[encoded data removed]",
      "text/plain": [
       "<matplotlib.figure.Figure at 0x11b3ffc50>"
      ]
     },
     "metadata": {},
     "output_type": "display_data"
    }
   ],
   "source": [
    "df['booked'].plot.hist(orientation='vertical')"
   ]
  },
  {
   "cell_type": "markdown",
   "metadata": {},
   "source": [
    "## Stay Length"
   ]
  },
  {
   "cell_type": "code",
   "execution_count": 87,
   "metadata": {
    "collapsed": false
   },
   "outputs": [
    {
     "data": {
      "text/plain": [
       "<matplotlib.axes._subplots.AxesSubplot at 0x11d313e90>"
      ]
     },
     "execution_count": 87,
     "metadata": {},
     "output_type": "execute_result"
    },
    {
     "data": {
      "image/png": "[encoded data removed]",
      "text/plain": [
       "<matplotlib.figure.Figure at 0x11de76d50>"
      ]
     },
     "metadata": {},
     "output_type": "display_data"
    }
   ],
   "source": [
    "df['stay_length'].plot.hist(orientation='vertical')"
   ]
  },
  {
   "cell_type": "code",
   "execution_count": null,
   "metadata": {
    "collapsed": true
   },
   "outputs": [],
   "source": []
  }
 ],
 "metadata": {
  "kernelspec": {
   "display_name": "Python 2",
   "language": "python",
   "name": "python2"
  }
 },
 "nbformat": 4,
 "nbformat_minor": 0
}
